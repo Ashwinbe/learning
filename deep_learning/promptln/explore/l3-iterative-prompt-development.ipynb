{
 "cells": [
  {
   "cell_type": "markdown",
   "id": "b97ddf3b-d921-4169-9d82-b0ee95e9eccd",
   "metadata": {},
   "source": [
    "# Iterative Prompt Development\n",
    "In this lesson, you'll iteratively analyze and refine your prompts to generate marketing copy from a product fact sheet.\n",
    "\n",
    "## Setup"
   ]
  },
  {
   "cell_type": "code",
   "execution_count": 1,
   "id": "2800e646",
   "metadata": {
    "tags": []
   },
   "outputs": [],
   "source": [
    "import requests\n",
    "import os\n",
    "\n",
    "from dotenv import load_dotenv, find_dotenv\n",
    "_ = load_dotenv(find_dotenv()) # read local .env file\n",
    "api_key = os.environ['GOOGLE_API_KEY']\n",
    "\n",
    "# Set the API endpoint and API key.\n",
    "endpoint = \"https://generativelanguage.googleapis.com/v1beta\"\n",
    "\n",
    "def get_completion(prompt):\n",
    "   # Prepare the request body.\n",
    "   request_body = {\n",
    "       \"contents\": [\n",
    "           {\n",
    "               \"parts\": [\n",
    "                   {\n",
    "                       \"text\": prompt\n",
    "                   }\n",
    "               ]\n",
    "           }\n",
    "       ]\n",
    "   }\n",
    "\n",
    "   # Make the request.\n",
    "   response = requests.post(\n",
    "       f\"{endpoint}/models/gemini-pro:generateContent?key={api_key}\",\n",
    "       json=request_body,\n",
    "   )\n",
    "\n",
    "   # Parse the response.\n",
    "   response_json = response.json()\n",
    "\n",
    "   generated_content = response_json[\"candidates\"][0]['content']['parts'][0]['text']\n",
    "\n",
    "   # Return the generated content.\n",
    "   return generated_content"
   ]
  },
  {
   "cell_type": "markdown",
   "id": "ffc2b32f-73da-4ef0-81f6-0c7bff70783d",
   "metadata": {},
   "source": [
    "**Note**: In June 2023, OpenAI updated gpt-3.5-turbo. The results you see in the notebook may be slightly different than those in the video. Some of the prompts have also been slightly modified to product the desired results."
   ]
  },
  {
   "cell_type": "markdown",
   "id": "71d1a1df-03c3-4f38-af6d-3962362f3dcd",
   "metadata": {},
   "source": [
    "## Generate a marketing product description from a product fact sheet"
   ]
  },
  {
   "cell_type": "code",
   "execution_count": 5,
   "id": "5be90e47",
   "metadata": {
    "tags": []
   },
   "outputs": [
    {
     "name": "stdout",
     "output_type": "stream",
     "text": [
      "Introducing our exquisite mid-century modern chair, designed to elevate both home and business environments. Crafted in Italy, this chair seamlessly blends style and functionality.\n",
      "\n",
      "With a versatile design, you can customize it to match your preferences with a choice of shell colors and base finishes, including stainless steel, matte black, gloss white, and chrome. Choose between plastic back and front upholstery or full upholstery in a range of fabrics and leathers. Armrests are optional for added comfort.\n",
      "\n",
      "Constructed with a sturdy 5-wheel aluminum base and pneumatic seat adjustment, this chair ensures effortless movement and seating comfort. Its compact dimensions make it suitable for any space.\n",
      "\n",
      "To cater to your specific needs, we offer soft or hard-floor casters, two densities of seat foam, and armless or adjustable PU armrests. Whether you're working from home or managing a corporate office, this chair is built for durability and style.\n"
     ]
    }
   ],
   "source": [
    "fact_sheet_chair = \"\"\"\n",
    "OVERVIEW\n",
    "- Part of a beautiful family of mid-century inspired office furniture, \n",
    "including filing cabinets, desks, bookcases, meeting tables, and more.\n",
    "- Several options of shell color and base finishes.\n",
    "- Available with plastic back and front upholstery (SWC-100) \n",
    "or full upholstery (SWC-110) in 10 fabric and 6 leather options.\n",
    "- Base finish options are: stainless steel, matte black, \n",
    "gloss white, or chrome.\n",
    "- Chair is available with or without armrests.\n",
    "- Suitable for home or business settings.\n",
    "- Qualified for contract use.\n",
    "\n",
    "CONSTRUCTION\n",
    "- 5-wheel plastic coated aluminum base.\n",
    "- Pneumatic chair adjust for easy raise/lower action.\n",
    "\n",
    "DIMENSIONS\n",
    "- WIDTH 53 CM | 20.87”\n",
    "- DEPTH 51 CM | 20.08”\n",
    "- HEIGHT 80 CM | 31.50”\n",
    "- SEAT HEIGHT 44 CM | 17.32”\n",
    "- SEAT DEPTH 41 CM | 16.14”\n",
    "\n",
    "OPTIONS\n",
    "- Soft or hard-floor caster options.\n",
    "- Two choices of seat foam densities: \n",
    " medium (1.8 lb/ft3) or high (2.8 lb/ft3)\n",
    "- Armless or 8 position PU armrests \n",
    "\n",
    "MATERIALS\n",
    "SHELL BASE GLIDER\n",
    "- Cast Aluminum with modified nylon PA6/PA66 coating.\n",
    "- Shell thickness: 10 mm.\n",
    "SEAT\n",
    "- HD36 foam\n",
    "\n",
    "COUNTRY OF ORIGIN\n",
    "- Italy\n",
    "\"\"\"\n",
    "prompt = f\"\"\"\n",
    "Your task is to help a marketing team create a \n",
    "description for a retail website of a product based \n",
    "on a technical fact sheet.\n",
    "\n",
    "Write a product description based on the information \n",
    "provided in the technical specifications delimited by \n",
    "triple backticks.\n",
    "\n",
    "Technical specifications: ```{fact_sheet_chair}```\n",
    "\"\"\"\n",
    "response = get_completion(prompt)\n",
    "print(response)\n"
   ]
  },
  {
   "cell_type": "markdown",
   "id": "d93d051b",
   "metadata": {},
   "source": [
    "## My text"
   ]
  },
  {
   "cell_type": "code",
   "execution_count": 7,
   "id": "748f0b9a",
   "metadata": {},
   "outputs": [
    {
     "name": "stdout",
     "output_type": "stream",
     "text": [
      "**Introducing the Unparalleled Performance of the V8 Car Engine**\n",
      "\n",
      "Prepare to ignite your automotive dreams with our state-of-the-art V8 car engine. Engineered for both power and versatility, this marvelously crafted engine will transform your driving experience.\n",
      "\n",
      "Boasting an array of configurations and displacements, ranging from 4.0 to 7.0 liters, the V8's V-shaped cylinder arrangement ensures optimum performance. Its overhead valve or overhead camshaft design provides precise valve control for maximum efficiency.\n",
      "\n",
      "Whether you seek exhilarating acceleration or effortlessly towing heavy loads, this engine delivers with authority. Its massive torque output offers exceptional low-end response and mid-range acceleration, making it ideal for everyday commuting or adrenaline-pumping driving.\n",
      "\n",
      "Beyond its power, the V8 boasts advanced engine management systems that optimize fuel injection, ignition timing, and other parameters. Variable valve timing and cylinder deactivation technologies enhance fuel efficiency, while lightweight materials and a compact design improve the overall power-to-weight ratio and vehicle balance.\n",
      "\n",
      "For the ultimate driving experience, it features active exhaust systems that allow you to customize the exhaust sound to your preference. Widely used in sports cars, trucks, SUVs, and luxury vehicles, the V8's versatility knows no bounds.\n",
      "\n",
      "Regular maintenance, including proper oil changes, spark plug replacements, and inspections, ensures optimal engine performance and longevity. Environmental consciousness is also prioritized, with compliance to emissions regulations and efforts towards improved fuel efficiency and reduced emissions.\n",
      "\n",
      "Indulge in the unparalleled performance of the V8 car engine and elevate your driving to the next level. Experience the power, versatility, and sophistication that redefine automotive excellence.\n"
     ]
    }
   ],
   "source": [
    "fact_sheet_car_engine = \"\"\"\n",
    "OVERVIEW\n",
    "FACT SHEET: V8 Car Engine\n",
    "\n",
    "OVERVIEW\n",
    "- A powerful and versatile V8 engine suitable for a wide range of vehicles, including sports cars, trucks, and SUVs.\n",
    "- Known for its high performance, smooth operation, and distinctive exhaust note.\n",
    "- Available in various configurations, including naturally aspirated and supercharged versions.\n",
    "- Offers excellent acceleration, towing capacity, and overall driving experience.\n",
    "- Suitable for both everyday commuting and high-performance driving enthusiasts.\n",
    "\n",
    "SPECIFICATIONS\n",
    "- Engine Type: V8\n",
    "- Displacement: Typically ranging from 4.0 to 7.0 liters\n",
    "- Cylinder Arrangement: V-shaped, with four cylinders on each bank\n",
    "- Valve Configuration: Typically overhead valve (OHV) or overhead camshaft (OHC)\n",
    "- Fuel System: Direct fuel injection or carbureted\n",
    "- Aspiration: Naturally aspirated or supercharged\n",
    "- Power Output: Varied, ranging from 300 to over 700 horsepower\n",
    "- Torque: High torque output, offering strong low-end and mid-range performance\n",
    "\n",
    "TECHNOLOGY\n",
    "- Advanced engine management systems for precise control of fuel injection, ignition timing, and other parameters.\n",
    "- Variable valve timing (VVT) and cylinder deactivation technology for improved fuel efficiency.\n",
    "- Lightweight materials and compact design for better power-to-weight ratio and overall vehicle balance.\n",
    "- Enhanced cooling systems to manage engine temperatures under high-performance driving conditions.\n",
    "- Active exhaust systems for customizable exhaust sound and performance.\n",
    "\n",
    "APPLICATIONS\n",
    "- Widely used in performance-oriented vehicles, such as sports cars, muscle cars, and high-performance sedans.\n",
    "- Also commonly found in trucks, SUVs, and luxury vehicles for their combination of power and versatility.\n",
    "- Suitable for both rear-wheel drive (RWD) and all-wheel drive (AWD) vehicle configurations.\n",
    "\n",
    "MAINTENANCE\n",
    "- Regular maintenance intervals recommended to ensure optimal engine performance and longevity.\n",
    "- Proper oil and filter changes, spark plug replacement, and periodic inspections of engine components.\n",
    "- Special attention to cooling system maintenance, especially for engines subjected to high loads or extreme temperatures.\n",
    "\n",
    "ENVIRONMENTAL CONSIDERATIONS\n",
    "- Compliance with emissions regulations, including emissions control systems such as catalytic converters.\n",
    "- Efforts towards improved fuel efficiency and reduced emissions through engine design enhancements and alternative fuel compatibility.\n",
    "\n",
    "COUNTRY OF ORIGIN\n",
    "- Engine components may be sourced from various countries, with assembly typically performed in the manufacturer's facilities.\n",
    "\n",
    "\"\"\"\n",
    "prompt = f\"\"\"\n",
    "Your task is to help a marketing team create a \n",
    "description for a retail website of a product based \n",
    "on a technical fact sheet.\n",
    "\n",
    "Write a product description based on the information \n",
    "provided in the technical specifications delimited by \n",
    "triple backticks.\n",
    "\n",
    "Technical specifications: ```{fact_sheet_car_engine}```\n",
    "\"\"\"\n",
    "response = get_completion(prompt)\n",
    "print(response)\n"
   ]
  },
  {
   "cell_type": "markdown",
   "id": "e1361d6f-6022-4b7a-8107-b2e2ff5efd32",
   "metadata": {},
   "source": [
    "## Issue 1: The text is too long \n",
    "- Limit the number of words/sentences/characters."
   ]
  },
  {
   "cell_type": "markdown",
   "id": "14b674be",
   "metadata": {},
   "source": [
    "## My prompt"
   ]
  },
  {
   "cell_type": "code",
   "execution_count": 8,
   "id": "f6129532",
   "metadata": {
    "tags": []
   },
   "outputs": [
    {
     "name": "stdout",
     "output_type": "stream",
     "text": [
      " Unleash unparalleled power and performance with our exceptional V8 Car Engine. Experience thrilling acceleration, impressive towing capacity, and a distinctive exhaust note that will turn heads. This versatile engine is perfect for both everyday driving and adrenaline-pumping adventures. Its advanced technology ensures optimal fuel efficiency, while its durable construction and meticulous maintenance intervals guarantee years of reliable performance.\n"
     ]
    }
   ],
   "source": [
    "prompt = f\"\"\"\n",
    "Your task is to help a marketing team create a \n",
    "description for a retail website of a product based \n",
    "on a technical fact sheet.\n",
    "\n",
    "Write a product description based on the information \n",
    "provided in the technical specifications delimited by \n",
    "triple backticks.\n",
    "\n",
    "Use at most 60 words.\n",
    "\n",
    "Technical specifications: ```{fact_sheet_car_engine}```\n",
    "\"\"\"\n",
    "response = get_completion(prompt)\n",
    "print(response)\n"
   ]
  },
  {
   "cell_type": "code",
   "execution_count": 9,
   "id": "26a375a0",
   "metadata": {},
   "outputs": [
    {
     "data": {
      "text/plain": [
       "58"
      ]
     },
     "execution_count": 9,
     "metadata": {},
     "output_type": "execute_result"
    }
   ],
   "source": [
    "len(response.split())"
   ]
  },
  {
   "cell_type": "markdown",
   "id": "a6de9c92-857c-4d1c-8fd1-192cf47c4763",
   "metadata": {},
   "source": [
    "## Issue 2. Text focuses on the wrong details\n",
    "- Ask it to focus on the aspects that are relevant to the intended audience."
   ]
  },
  {
   "cell_type": "code",
   "execution_count": 10,
   "id": "954a8a06",
   "metadata": {
    "tags": []
   },
   "outputs": [
    {
     "name": "stdout",
     "output_type": "stream",
     "text": [
      "Constructed from durable materials including cast iron, aluminum alloys, and forged steel components, this high-performance V8 engine delivers exceptional power and reliability.\n"
     ]
    }
   ],
   "source": [
    "prompt = f\"\"\"\n",
    "Your task is to help a marketing team create a \n",
    "description for a retail website of a product based \n",
    "on a technical fact sheet.\n",
    "\n",
    "Write a product description based on the information \n",
    "provided in the technical specifications delimited by \n",
    "triple backticks.\n",
    "\n",
    "The description is intended for car dealer, \n",
    "so should be technical in nature and focus on the \n",
    "materials the product is constructed from.\n",
    "\n",
    "Use at most 40 words.\n",
    "\n",
    "Technical specifications: ```{fact_sheet_car_engine}```\n",
    "\"\"\"\n",
    "response = get_completion(prompt)\n",
    "print(response)"
   ]
  },
  {
   "cell_type": "code",
   "execution_count": 11,
   "id": "01a03822",
   "metadata": {},
   "outputs": [
    {
     "data": {
      "text/plain": [
       "22"
      ]
     },
     "execution_count": 11,
     "metadata": {},
     "output_type": "execute_result"
    }
   ],
   "source": [
    "len(response.split())"
   ]
  },
  {
   "cell_type": "code",
   "execution_count": 12,
   "id": "e9455d58",
   "metadata": {
    "tags": []
   },
   "outputs": [
    {
     "name": "stdout",
     "output_type": "stream",
     "text": [
      "This V8 car engine delivers exceptional power and versatility. Constructed from lightweight materials and featuring an advanced cooling system, it ensures enhanced performance and reliability. Its V-shaped, 4-cylinder-per-bank configuration, OHV/OHC valve arrangement, and direct fuel injection system optimize combustion efficiency. Product IDs: 1234567, 2345678, 3456789.\n"
     ]
    }
   ],
   "source": [
    "prompt = f\"\"\"\n",
    "Your task is to help a marketing team create a \n",
    "description for a retail website of a product based \n",
    "on a technical fact sheet.\n",
    "\n",
    "Write a product description based on the information \n",
    "provided in the technical specifications delimited by \n",
    "triple backticks.\n",
    "\n",
    "The description is intended for car dealer, \n",
    "so should be technical in nature and focus on the \n",
    "materials the product is constructed from.\n",
    "\n",
    "At the end of the description, include every 7-character \n",
    "Product ID in the technical specification.\n",
    "\n",
    "Use at most 50 words.\n",
    "\n",
    "Technical specifications: ```{fact_sheet_car_engine}```\n",
    "\"\"\"\n",
    "response = get_completion(prompt)\n",
    "print(response)"
   ]
  },
  {
   "cell_type": "markdown",
   "id": "5be496d5-54c9-443b-8116-0b3d3d9dc560",
   "metadata": {},
   "source": [
    "## Issue 3. Description needs a table of dimensions\n",
    "- Ask it to extract information and organize it in a table."
   ]
  },
  {
   "cell_type": "code",
   "execution_count": 13,
   "id": "0384f1e4",
   "metadata": {
    "tags": []
   },
   "outputs": [
    {
     "name": "stdout",
     "output_type": "stream",
     "text": [
      "<div>\n",
      "\n",
      "<h2>Engine V8</h2>\n",
      "\n",
      "The V8 car engine is a powerful and versatile option for a wide range of vehicles. Known for its high performance, smooth operation, and distinctive exhaust note, this engine is available in various configurations, including naturally aspirated and supercharged versions. It offers excellent acceleration, towing capacity, and overall driving experience, making it suitable for both everyday commuting and high-performance driving enthusiasts.\n",
      "\n",
      "This V8 engine is constructed using advanced materials and technology, resulting in a lightweight and compact design that provides an excellent power-to-weight ratio and enhances the vehicle's balance. Its advanced engine management systems ensure precise control of fuel injection, ignition timing, and other parameters, optimizing performance and efficiency. Variable valve timing (VVT) and cylinder deactivation technology further contribute to improved fuel economy.\n",
      "\n",
      "The engine's enhanced cooling systems effectively manage temperatures under high-performance driving conditions, ensuring reliability and durability. Active exhaust systems offer customizable exhaust sound and performance, allowing drivers to tailor the engine's characteristics to their preferences.\n",
      "\n",
      "<b>Product IDs:</b> CDE7823, ERT3243, QWE6491, UIO1256\n",
      "\n",
      "</div>\n",
      "\n",
      "<table id=\"engine-v8\">\n",
      "  <caption>Engine V8</caption>\n",
      "  <tbody>\n",
      "    <tr>\n",
      "      <td><abbr title=\"Length\">L</abbr></td>\n",
      "      <td>-- in</td>\n",
      "    </tr>\n",
      "    <tr>\n",
      "      <td><abbr title=\"Width\">W</abbr></td>\n",
      "      <td>-- in</td>\n",
      "    </tr>\n",
      "    <tr>\n",
      "      <td><abbr title=\"Height\">H</abbr></td>\n",
      "      <td>-- in</td>\n",
      "    </tr>\n",
      "  </tbody>\n",
      "</table>\n"
     ]
    }
   ],
   "source": [
    "prompt = f\"\"\"\n",
    "Your task is to help a marketing team create a \n",
    "description for a retail website of a product based \n",
    "on a technical fact sheet.\n",
    "\n",
    "Write a product description based on the information \n",
    "provided in the technical specifications delimited by \n",
    "triple backticks.\n",
    "\n",
    "The description is intended for car dealer , \n",
    "so should be technical in nature and focus on the \n",
    "materials the product is constructed from.\n",
    "\n",
    "At the end of the description, include every 7-character \n",
    "Product ID in the technical specification.\n",
    "\n",
    "After the description, include a table that gives the \n",
    "product's dimensions. The table should have two columns.\n",
    "In the first column include the name of the dimension. \n",
    "In the second column include the measurements in inches only.\n",
    "\n",
    "Give the table the title 'engine v8'.\n",
    "\n",
    "Format everything as HTML that can be used in a website. \n",
    "Place the description in a <div> element.\n",
    "\n",
    "Technical specifications: ```{fact_sheet_car_engine}```\n",
    "\"\"\"\n",
    "\n",
    "response = get_completion(prompt)\n",
    "print(response)"
   ]
  },
  {
   "cell_type": "markdown",
   "id": "d681db67-6d59-40c1-a36b-4d76729a690d",
   "metadata": {},
   "source": [
    "## Load Python libraries to view HTML"
   ]
  },
  {
   "cell_type": "code",
   "execution_count": 14,
   "id": "73ff0052",
   "metadata": {
    "tags": []
   },
   "outputs": [],
   "source": [
    "from IPython.display import display, HTML"
   ]
  },
  {
   "cell_type": "code",
   "execution_count": 15,
   "id": "3465ffce",
   "metadata": {
    "tags": []
   },
   "outputs": [
    {
     "data": {
      "text/html": [
       "<div>\n",
       "\n",
       "<h2>Engine V8</h2>\n",
       "\n",
       "The V8 car engine is a powerful and versatile option for a wide range of vehicles. Known for its high performance, smooth operation, and distinctive exhaust note, this engine is available in various configurations, including naturally aspirated and supercharged versions. It offers excellent acceleration, towing capacity, and overall driving experience, making it suitable for both everyday commuting and high-performance driving enthusiasts.\n",
       "\n",
       "This V8 engine is constructed using advanced materials and technology, resulting in a lightweight and compact design that provides an excellent power-to-weight ratio and enhances the vehicle's balance. Its advanced engine management systems ensure precise control of fuel injection, ignition timing, and other parameters, optimizing performance and efficiency. Variable valve timing (VVT) and cylinder deactivation technology further contribute to improved fuel economy.\n",
       "\n",
       "The engine's enhanced cooling systems effectively manage temperatures under high-performance driving conditions, ensuring reliability and durability. Active exhaust systems offer customizable exhaust sound and performance, allowing drivers to tailor the engine's characteristics to their preferences.\n",
       "\n",
       "<b>Product IDs:</b> CDE7823, ERT3243, QWE6491, UIO1256\n",
       "\n",
       "</div>\n",
       "\n",
       "<table id=\"engine-v8\">\n",
       "  <caption>Engine V8</caption>\n",
       "  <tbody>\n",
       "    <tr>\n",
       "      <td><abbr title=\"Length\">L</abbr></td>\n",
       "      <td>-- in</td>\n",
       "    </tr>\n",
       "    <tr>\n",
       "      <td><abbr title=\"Width\">W</abbr></td>\n",
       "      <td>-- in</td>\n",
       "    </tr>\n",
       "    <tr>\n",
       "      <td><abbr title=\"Height\">H</abbr></td>\n",
       "      <td>-- in</td>\n",
       "    </tr>\n",
       "  </tbody>\n",
       "</table>"
      ],
      "text/plain": [
       "<IPython.core.display.HTML object>"
      ]
     },
     "metadata": {},
     "output_type": "display_data"
    }
   ],
   "source": [
    "display(HTML(response))"
   ]
  },
  {
   "cell_type": "markdown",
   "id": "8ed02a02-9e12-4f63-97bd-f52064b18666",
   "metadata": {},
   "source": [
    "## Summary\n",
    "\n",
    "### Iterative Prompt Development\n",
    "We refine prompts to generate marketing copy from a product fact sheet.\n",
    "\n",
    "### Generating Marketing Product Description from Fact Sheet\n",
    "\n",
    "#### Addressing Issues:\n",
    "1. **Limitation:** \n",
    "   - Prompt to control word/sentence/character count.\n",
    "2. **Relevance:** \n",
    "   - Prompt to focus solely on pertinent information.\n",
    "3. **Organization:** \n",
    "   - Utilize Python libraries to arrange data in tables for clarity.\n"
   ]
  },
  {
   "cell_type": "markdown",
   "metadata": {},
   "source": []
  }
 ],
 "metadata": {
  "kernelspec": {
   "display_name": "Python 3 (ipykernel)",
   "language": "python",
   "name": "python3"
  },
  "language_info": {
   "codemirror_mode": {
    "name": "ipython",
    "version": 3
   },
   "file_extension": ".py",
   "mimetype": "text/x-python",
   "name": "python",
   "nbconvert_exporter": "python",
   "pygments_lexer": "ipython3",
   "version": "3.10.12"
  }
 },
 "nbformat": 4,
 "nbformat_minor": 5
}
