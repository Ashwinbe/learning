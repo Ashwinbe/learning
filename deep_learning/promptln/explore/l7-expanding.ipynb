{
 "cells": [
  {
   "cell_type": "markdown",
   "id": "8de529e8-3891-4f47-8585-65b92b80bbf7",
   "metadata": {},
   "source": [
    "# Expanding\n",
    "In this lesson, you will generate customer service emails that are tailored to each customer's review.\n",
    "\n",
    "## Setup"
   ]
  },
  {
   "cell_type": "code",
   "execution_count": 1,
   "id": "e23399a9",
   "metadata": {
    "height": 132
   },
   "outputs": [],
   "source": [
    "import requests\n",
    "import os\n",
    "\n",
    "from dotenv import load_dotenv, find_dotenv\n",
    "_ = load_dotenv(find_dotenv()) # read local .env file\n",
    "api_key = os.environ['GOOGLE_API_KEY']\n",
    "\n",
    "# Set the API endpoint and API key.\n",
    "endpoint = \"https://generativelanguage.googleapis.com/v1beta\"\n",
    "\n",
    "def get_completion(prompt):\n",
    "   # Prepare the request body.\n",
    "   request_body = {\n",
    "       \"contents\": [\n",
    "           {\n",
    "               \"parts\": [\n",
    "                   {\n",
    "                       \"text\": prompt\n",
    "                   }\n",
    "               ]\n",
    "           }\n",
    "       ]\n",
    "   }\n",
    "\n",
    "   # Make the request.\n",
    "   response = requests.post(\n",
    "       f\"{endpoint}/models/gemini-pro:generateContent?key={api_key}\",\n",
    "       json=request_body,\n",
    "   )\n",
    "\n",
    "   # Parse the response.\n",
    "   response_json = response.json()\n",
    "\n",
    "   generated_content = response_json[\"candidates\"][0]['content']['parts'][0]['text']\n",
    "\n",
    "   # Return the generated content.\n",
    "   return generated_content"
   ]
  },
  {
   "cell_type": "markdown",
   "id": "f8ceea77-990a-4c64-bb49-3ba65eb155d2",
   "metadata": {},
   "source": [
    "## Customize the automated reply to a customer email"
   ]
  },
  {
   "cell_type": "code",
   "execution_count": 2,
   "id": "c30c4239",
   "metadata": {
    "height": 642
   },
   "outputs": [
    {
     "name": "stdout",
     "output_type": "stream",
     "text": [
      "Dear valued customer,\n",
      "\n",
      "Thank you for taking the time to review the BMW M4. We are sorry to hear that your experience was not as positive as you had hoped.\n",
      "\n",
      "We understand your concerns about the vehicle's performance and handling. We would like to suggest that you reach out to our customer service department so that we can further assist you with your concerns.\n",
      "\n",
      "We appreciate your feedback, and we will use it to improve our products and services in the future.\n",
      "\n",
      "Sincerely,\n",
      "AI customer agent\n"
     ]
    }
   ],
   "source": [
    "# given the sentiment from the lesson on \"inferring\",\n",
    "# and the original customer message, customize the email\n",
    "sentiment = \"negative\"\n",
    "\n",
    "# review for a BMW M4\n",
    "review = f\"\"\"\n",
    "The BMW M4 is an absolute marvel of automotive engineering, delivering a driving experience that is nothing short of exhilarating. From its striking exterior design to its powerful performance capabilities, every aspect of the M4 exemplifies excellence.\n",
    "\n",
    "First and foremost, let's talk about performance. The M4 is powered by a formidable engine that unleashes an impressive amount of power, propelling you from 0 to 60 mph in mere seconds. Whether you're cruising down the highway or tackling tight corners on a winding road, the M4 handles with precision and agility, providing an adrenaline-fueled ride that will leave you craving more.\n",
    "\n",
    "But it's not just about speed—the M4 offers a level of refinement and luxury that is unmatched in its class. The interior is meticulously crafted with high-quality materials and cutting-edge technology, ensuring that every journey is as comfortable as it is thrilling. From the plush leather seats to the intuitive infotainment system, every detail has been thoughtfully designed to enhance the driving experience.\n",
    "\n",
    "In addition to its impressive performance and luxurious interior, the M4 also boasts a wide range of advanced safety features, providing peace of mind on every drive. Whether you're navigating busy city streets or cruising on the open highway, you can trust that the M4 has your back, keeping you and your passengers safe at all times.\n",
    "\n",
    "Overall, the BMW M4 is a true masterpiece of automotive engineering, combining breathtaking performance, luxurious comfort, and advanced safety features in one stunning package. If you're in the market for a high-performance sports car that doesn't compromise on style or comfort, look no further than the BMW M4. It's truly in a class of its own.\n",
    "    review = f\"\"\"\n",
    "\n",
    "prompt = f\"\"\"\n",
    "You are a customer service AI assistant.\n",
    "Your task is to send an email reply to a valued customer.\n",
    "Given the customer email delimited by ```, \\\n",
    "Generate a reply to thank the customer for their review.\n",
    "If the sentiment is positive or neutral, thank them for \\\n",
    "their review.\n",
    "If the sentiment is negative, apologize and suggest that \\\n",
    "they can reach out to customer service. \n",
    "Make sure to use specific details from the review.\n",
    "Write in a concise and professional tone.\n",
    "Sign the email as `AI customer agent`.\n",
    "Customer review: ```{review}```\n",
    "Review sentiment: {sentiment}\n",
    "\"\"\"\n",
    "response = get_completion(prompt)\n",
    "print(response)"
   ]
  },
  {
   "cell_type": "markdown",
   "id": "55605ee0-118c-4c46-a917-4981a43fcad3",
   "metadata": {},
   "source": [
    "## Remind the model to use details from the customer's email"
   ]
  },
  {
   "cell_type": "code",
   "execution_count": 4,
   "id": "1d5ea7c8",
   "metadata": {
    "height": 302
   },
   "outputs": [
    {
     "name": "stdout",
     "output_type": "stream",
     "text": [
      "Dear [Customer Name],\n",
      "\n",
      "Thank you for taking the time to share your review of the BMW M4. We regret to hear that your experience with the vehicle did not meet your expectations. \n",
      "\n",
      "We value your feedback and understand that your concerns regarding [specific concerns mentioned in the review] are important. We encourage you to reach out to our customer service team at [customer service contact information] so that we can address your concerns promptly. \n",
      "\n",
      "We are committed to providing our customers with the highest level of satisfaction, and we will do our best to resolve any issues you may have.\n",
      "\n",
      "Thank you for your continued support.\n",
      "\n",
      "Sincerely,\n",
      "Nan Kadaval\n"
     ]
    }
   ],
   "source": [
    "prompt = f\"\"\"\n",
    "You are a customer service AI assistant.\n",
    "Your task is to send an email reply to a valued customer.\n",
    "Given the customer email delimited by ```, \\\n",
    "Generate a reply to thank the customer for their review.\n",
    "If the sentiment is positive or neutral, thank them for \\\n",
    "their review.\n",
    "If the sentiment is negative, apologize and suggest that \\\n",
    "they can reach out to customer service. \n",
    "Make sure to use specific details from the review.\n",
    "Write in a concise and professional tone.\n",
    "Sign the email as `nan kadaval`.\n",
    "Customer review: ```{review}```\n",
    "Review sentiment: {sentiment}\n",
    "\"\"\"\n",
    "response = get_completion(prompt)\n",
    "print(response)"
   ]
  },
  {
   "cell_type": "markdown",
   "id": "cbc95d43",
   "metadata": {},
   "source": [
    "## SUMMARY\n",
    "### EXPANDING\n",
    "- The lesson emphasizes the importance of grasping the intricacies of individual customer feedback and crafting responses that effectively cater to their concerns or praise.\n",
    "\n",
    "#### Customizing Automated Replies to Customer Emails:\n",
    "- This involves reviewing customer feedback and composing tailored email responses to express gratitude. It's crucial to remind the model to integrate specific details from the customer's email for a personalized touch.\n"
   ]
  },
  {
   "cell_type": "markdown",
   "id": "65a0d76b",
   "metadata": {},
   "source": []
  }
 ],
 "metadata": {
  "kernelspec": {
   "display_name": "Python 3 (ipykernel)",
   "language": "python",
   "name": "python3"
  },
  "language_info": {
   "codemirror_mode": {
    "name": "ipython",
    "version": 3
   },
   "file_extension": ".py",
   "mimetype": "text/x-python",
   "name": "python",
   "nbconvert_exporter": "python",
   "pygments_lexer": "ipython3",
   "version": "3.10.12"
  }
 },
 "nbformat": 4,
 "nbformat_minor": 5
}
