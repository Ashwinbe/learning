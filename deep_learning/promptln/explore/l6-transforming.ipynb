{
 "cells": [
  {
   "cell_type": "markdown",
   "id": "e3993515-9710-4ac4-89e9-b35ebb81e920",
   "metadata": {
    "id": "rhqRhkElpJ0z"
   },
   "source": [
    "# Transforming\n",
    "\n",
    "In this notebook, we will explore how to use Large Language Models for text transformation tasks such as language translation, spelling and grammar checking, tone adjustment, and format conversion.\n",
    "\n",
    "## Setup"
   ]
  },
  {
   "cell_type": "code",
   "execution_count": 4,
   "id": "41df0348",
   "metadata": {
    "tags": []
   },
   "outputs": [],
   "source": [
    "import requests\n",
    "import os\n",
    "\n",
    "from dotenv import load_dotenv, find_dotenv\n",
    "_ = load_dotenv(find_dotenv()) # read local .env file\n",
    "api_key = os.environ['GOOGLE_API_KEY']\n",
    "\n",
    "# Set the API endpoint and API key.\n",
    "endpoint = \"https://generativelanguage.googleapis.com/v1beta\"\n",
    "\n",
    "def get_completion(prompt):\n",
    "   # Prepare the request body.\n",
    "   request_body = {\n",
    "       \"contents\": [\n",
    "           {\n",
    "               \"parts\": [\n",
    "                   {\n",
    "                       \"text\": prompt\n",
    "                   }\n",
    "               ]\n",
    "           }\n",
    "       ]\n",
    "   }\n",
    "\n",
    "   # Make the request.\n",
    "   response = requests.post(\n",
    "       f\"{endpoint}/models/gemini-pro:generateContent?key={api_key}\",\n",
    "       json=request_body,\n",
    "   )\n",
    "\n",
    "   # Parse the response.\n",
    "   response_json = response.json()\n",
    "\n",
    "   generated_content = response_json[\"candidates\"][0]['content']['parts'][0]['text']\n",
    "\n",
    "   # Return the generated content.\n",
    "   return generated_content"
   ]
  },
  {
   "cell_type": "markdown",
   "id": "1d8f0bd8-628e-4c36-bcd0-2110162f25fc",
   "metadata": {
    "id": "zdxC4c6pwqA5"
   },
   "source": [
    "## Translation\n",
    "\n",
    "ChatGPT is trained with sources in many languages. This gives the model the ability to do translation. Here are some examples of how to use this capability."
   ]
  },
  {
   "cell_type": "code",
   "execution_count": 2,
   "id": "9c4df6ff",
   "metadata": {
    "tags": []
   },
   "outputs": [
    {
     "name": "stdout",
     "output_type": "stream",
     "text": [
      "हाय, मैं एक ब्लेंडर ऑर्डर करना चाहूंगा\n"
     ]
    }
   ],
   "source": [
    "prompt = f\"\"\"\n",
    "Translate the following English text to hindi: \\ \n",
    "```Hi, I would like to order a blender```\n",
    "\"\"\"\n",
    "response = get_completion(prompt)\n",
    "print(response)"
   ]
  },
  {
   "cell_type": "code",
   "execution_count": 3,
   "id": "7300ed9b",
   "metadata": {
    "tags": []
   },
   "outputs": [
    {
     "name": "stdout",
     "output_type": "stream",
     "text": [
      "Hindi\n"
     ]
    }
   ],
   "source": [
    "prompt = f\"\"\"\n",
    "Tell me which language this is: \n",
    "```नमस्कार, मैं एक ब्लेंडर ऑर्डर करना चाहूंगा?```\n",
    "\"\"\"\n",
    "response = get_completion(prompt)\n",
    "print(response)"
   ]
  },
  {
   "cell_type": "code",
   "execution_count": 5,
   "id": "791e789b",
   "metadata": {
    "tags": []
   },
   "outputs": [
    {
     "name": "stdout",
     "output_type": "stream",
     "text": [
      "**Tamil:** நான் ஒரு கூடைப்பந்தை ஆர்டர் செய்ய விரும்புகிறேன்\n",
      "\n",
      "**Kannada:** ನಾನು ಬ್ಯಾಸ್ಕೆಟ್‌ಬಾಲ್‌ ಆರ್ಡರ್ ಮಾಡಲು ಬಯಸುತ್ತೇನೆ.\n",
      "\n",
      "**English Pirate:** Avast there, matey! I be wantin' to order a basketball.\n"
     ]
    }
   ],
   "source": [
    "prompt = f\"\"\"\n",
    "Translate the following  text to tamil and kanada\n",
    "and English pirate: \\\n",
    "```I want to order a basketball```\n",
    "\"\"\"\n",
    "response = get_completion(prompt)\n",
    "print(response)"
   ]
  },
  {
   "cell_type": "code",
   "execution_count": 6,
   "id": "fcf7eb63",
   "metadata": {
    "tags": []
   },
   "outputs": [
    {
     "name": "stdout",
     "output_type": "stream",
     "text": [
      "**Formal**\n",
      "请问，您要定一个枕头吗？\n",
      "\n",
      "**Informal**\n",
      "你想订一个枕头吗？\n"
     ]
    }
   ],
   "source": [
    "prompt = f\"\"\"\n",
    "Translate the following text to chines in both the \\\n",
    "formal and informal forms: \n",
    "'Would you like to order a pillow?'\n",
    "\"\"\"\n",
    "response = get_completion(prompt)\n",
    "print(response)"
   ]
  },
  {
   "cell_type": "markdown",
   "id": "8edb56d2-a32a-470f-9f40-4fc5b1ea0849",
   "metadata": {
    "id": "-hN2bczQrRC1"
   },
   "source": [
    "### Universal Translator\n",
    "Imagine you are in charge of IT at a large multinational e-commerce company. Users are messaging you with IT issues in all their native languages. Your staff is from all over the world and speaks only their native languages. You need a universal translator!"
   ]
  },
  {
   "cell_type": "code",
   "execution_count": 7,
   "id": "68a40bf0",
   "metadata": {
    "tags": []
   },
   "outputs": [
    {
     "name": "stdout",
     "output_type": "stream",
     "text": [
      "Original message (Tamil): நாங்கள் இன்று என்ன விளையாடுவோம்?.\n",
      "**English:**\n",
      "What are we playing today?\n",
      "\n",
      "**Hindi:**\n",
      "आज हम क्या खेलेंगे? \n",
      "\n",
      "Original message (Spanish): Mi monitor tiene píxeles que no se iluminan.\n",
      "**English:** My monitor has pixels that don't light up.\n",
      "\n",
      "**Hindi:** मेरी मॉनिटर के पिक्सल लाइट नहीं देते। \n",
      "\n",
      "Original message (Italian): Il mio mouse non funziona\n",
      "**English:**\n",
      "   My Mouse Not Working\n",
      "\n",
      "**Hindi:**\n",
      "    मेरा माउस काम नहीं कर रहा है \n",
      "\n",
      "Original message (Polish): Mój klawisz Ctrl jest zepsuty\n",
      "**English:** My Ctrl key is broken\n",
      "\n",
      "**Hindi:** मेरी Ctrl कुंजी काम नहीं कर रही है \n",
      "\n",
      "Original message (Chinese): 我的屏幕在闪烁\n",
      "**English:** My screen is flickering\n",
      "\n",
      "**Hindi:** मेरी स्क्रीन टिमटिमा रही है \n",
      "\n"
     ]
    }
   ],
   "source": [
    "user_messages = [\n",
    "  \"நாங்கள் இன்று என்ன விளையாடுவோம்?.\",  # System performance is slower than normal         \n",
    "  \"Mi monitor tiene píxeles que no se iluminan.\",              # My monitor has pixels that are not lighting\n",
    "  \"Il mio mouse non funziona\",                                 # My mouse is not working\n",
    "  \"Mój klawisz Ctrl jest zepsuty\",                             # My keyboard has a broken control key\n",
    "  \"我的屏幕在闪烁\"                                               # My screen is flashing\n",
    "] \n",
    "for issue in user_messages:\n",
    "    prompt = f\"Tell me what language this is: ```{issue}```\"\n",
    "    lang = get_completion(prompt)\n",
    "    print(f\"Original message ({lang}): {issue}\")\n",
    "\n",
    "    prompt = f\"\"\"\n",
    "    Translate the following  text to english\\\n",
    "    and hindi: ```{issue}```\n",
    "    \"\"\"\n",
    "    response = get_completion(prompt)\n",
    "    print(response, \"\\n\")"
   ]
  },
  {
   "cell_type": "markdown",
   "id": "7feb1991",
   "metadata": {},
   "source": [
    "## Tone Transformation\n",
    "Writing can vary based on the intended audience. ChatGPT can produce different tones.\n"
   ]
  },
  {
   "cell_type": "code",
   "execution_count": 8,
   "id": "2deac328",
   "metadata": {
    "tags": []
   },
   "outputs": [
    {
     "name": "stdout",
     "output_type": "stream",
     "text": [
      "My Dearest Waseem,\n",
      "\n",
      "From the depths of my heart, I pen these words to convey a secret I can no longer keep. It is with trembling hands and an overflowing soul that I confess my love for you. Your presence has filled my life with an indescribable joy and meaning.\n",
      "\n",
      "From the moment our eyes first met, a spark ignited within me. Your smile, your gentle nature, and your unwavering spirit have captivated my heart. Every moment by your side feels like a precious gift, a testament to the profound connection we share.\n",
      "\n",
      "Your laughter brings sunshine into my darkest days, and your comforting words soothe any pain. You fill my heart with an overwhelming sense of peace and contentment. Your presence in my life is like a beacon of hope, guiding me through the turbulent waters of life.\n",
      "\n",
      "I know that words alone cannot fully express the depth of my emotions, but I hope that this letter finds you well and that you are receptive to my heartfelt plea. I long to spend the rest of my days by your side, sharing laughter, dreams, and the unwavering bond that we have built together.\n",
      "\n",
      "Yours eternally,\n",
      "\n",
      "Sandy\n"
     ]
    }
   ],
   "source": [
    "prompt = f\"\"\"\n",
    "Translate the following from slang to a love  letter: \n",
    "'waseem, This is sandy, i need to tell you something that iam in love with you!.'\n",
    "\"\"\"\n",
    "response = get_completion(prompt)\n",
    "print(response)"
   ]
  },
  {
   "cell_type": "markdown",
   "id": "a2c7eb73-6b82-442d-b4f8-251c308e89d5",
   "metadata": {
    "id": "p3e9sZh5tWIa"
   },
   "source": [
    "## Format Conversion\n",
    "ChatGPT can translate between formats. The prompt should describe the input and output formats."
   ]
  },
  {
   "cell_type": "code",
   "execution_count": 15,
   "id": "5a37f0a0",
   "metadata": {
    "tags": []
   },
   "outputs": [
    {
     "name": "stdout",
     "output_type": "stream",
     "text": [
      "```html\n",
      "<h2>Restaurant Employees</h2>\n",
      "\n",
      "<table>\n",
      "  <tr>\n",
      "    <th>Name</th>\n",
      "    <th>Email</th>\n",
      "  </tr>\n",
      "  <tr>\n",
      "    <td>santhosh</td>\n",
      "    <td>snady@gmail.com</td>\n",
      "  </tr>\n",
      "  <tr>\n",
      "    <td>trance</td>\n",
      "    <td>trance009@gmail.com</td>\n",
      "  </tr>\n",
      "  <tr>\n",
      "    <td>ash</td>\n",
      "    <td>ash93@gmail.com</td>\n",
      "  </tr>\n",
      "</table>\n",
      "```\n"
     ]
    }
   ],
   "source": [
    "data_json = { \"resturant employees\" :[ \n",
    "    {\"name\":\"santhosh\", \"email\":\"snady@gmail.com\"},\n",
    "    {\"name\":\"trance\", \"email\":\"trance009@gmail.com\"},\n",
    "    {\"name\":\"ash\", \"email\":\"ash93@gmail.com\"}\n",
    "]}\n",
    "\n",
    "prompt = f\"\"\"\n",
    "Translate the following python dictionary from JSON to an HTML \\\n",
    "table with column headers and title: {data_json}\n",
    "\"\"\"\n",
    "response = get_completion(prompt)\n",
    "print(response)"
   ]
  },
  {
   "cell_type": "code",
   "execution_count": 16,
   "id": "481a46b7",
   "metadata": {
    "tags": []
   },
   "outputs": [
    {
     "data": {
      "text/html": [
       "```html\n",
       "<h2>Restaurant Employees</h2>\n",
       "\n",
       "<table>\n",
       "  <tr>\n",
       "    <th>Name</th>\n",
       "    <th>Email</th>\n",
       "  </tr>\n",
       "  <tr>\n",
       "    <td>santhosh</td>\n",
       "    <td>snady@gmail.com</td>\n",
       "  </tr>\n",
       "  <tr>\n",
       "    <td>trance</td>\n",
       "    <td>trance009@gmail.com</td>\n",
       "  </tr>\n",
       "  <tr>\n",
       "    <td>ash</td>\n",
       "    <td>ash93@gmail.com</td>\n",
       "  </tr>\n",
       "</table>\n",
       "```"
      ],
      "text/plain": [
       "<IPython.core.display.HTML object>"
      ]
     },
     "metadata": {},
     "output_type": "display_data"
    }
   ],
   "source": [
    "from IPython.display import display, Markdown, Latex, HTML, JSON\n",
    "display(HTML(response))"
   ]
  },
  {
   "cell_type": "markdown",
   "id": "2df1824c-534b-45cb-b0c1-3000bba5adbe",
   "metadata": {
    "id": "qLTz16qEzyT_"
   },
   "source": [
    "## Spellcheck/Grammar check.\n",
    "\n",
    "Here are some examples of common grammar and spelling problems and the LLM's response. \n",
    "\n",
    "To signal to the LLM that you want it to proofread your text, you instruct the model to 'proofread' or 'proofread and correct'."
   ]
  },
  {
   "cell_type": "code",
   "execution_count": 12,
   "id": "52d77283",
   "metadata": {
    "tags": []
   },
   "outputs": [
    {
     "name": "stdout",
     "output_type": "stream",
     "text": [
      "**Corrected version:**\n",
      "The car was a shiny piece of metal, glimmering in the sunlight. Its engine rumbled like a sleeping bear. The wheels spun with pure power, taking it along the road. Inside, the seats were comfortable, cushy like a marshmallow. Each toot of the horn sounded like a melody in the wind. It was a journey waiting to happen, a dream on four wheels.\n"
     ]
    }
   ],
   "source": [
    "text = [ \n",
    "  \"The kar wuz a shyny peese of metel, glimering in the sunlite. Its engin rumbl'd lyke a sleepin' ber. The wheeles spun wiv pur powr, takin' it along the rode. Inside, the seats wer komfertable, cushy lyke a marshmelo. Eech toot of the horn soundid lyke a melodi in the wind. It wuz a jurney waitin' to happen, a dream on four wheeles.\"  # spelling\n",
    "]\n",
    "for t in text:\n",
    "    prompt = f\"\"\"Proofread and correct the following text\n",
    "    and rewrite the corrected version. If you don't find\n",
    "    and errors, just say \"No errors found\". Don't use \n",
    "    any punctuation around the text:\n",
    "    ```{t}```\"\"\"\n",
    "    response = get_completion(prompt)\n",
    "    print(response)"
   ]
  },
  {
   "cell_type": "markdown",
   "id": "be1c33d5",
   "metadata": {},
   "source": [
    "# My text"
   ]
  },
  {
   "cell_type": "code",
   "execution_count": 14,
   "id": "7543fe7d",
   "metadata": {
    "tags": []
   },
   "outputs": [
    {
     "name": "stdout",
     "output_type": "stream",
     "text": [
      "The car was a shiny piece of metal, glimmering in the sunlight. Its engine rumbled like a sleeping bear. The wheels spun with pure power, taking it along the road. Inside, the seats were comfortable, cushy like a marshmallow. Each toot of the horn sounded like a melody in the wind. It was a journey waiting to happen, a dream on four wheels.\n"
     ]
    }
   ],
   "source": [
    "text = f\"\"\"\n",
    "The kar wuz a shyny peese of metel, glimering in the sunlite. Its engin rumbl'd lyke a sleepin' ber. The wheeles spun wiv pur powr, takin' it along the rode. Inside, the seats wer komfertable, cushy lyke a marshmelo. Eech toot of the horn soundid lyke a melodi in the wind. It wuz a jurney waitin' to happen, a dream on four wheeles.\n",
    "\"\"\"\n",
    "prompt = f\"proofread and correct this review: ```{text}```\"\n",
    "response = get_completion(prompt)\n",
    "print(response)"
   ]
  },
  {
   "cell_type": "code",
   "execution_count": 18,
   "id": "11ac80a0",
   "metadata": {
    "tags": []
   },
   "outputs": [
    {
     "data": {
      "text/markdown": [
       "The <span style='color:red;font-weight:700;text-decoration:line-through;'>kar wuz </span><span style='color:green;font-weight:700;'>car was </span>a <span style='color:red;font-weight:700;text-decoration:line-through;'>shyny peese </span><span style='color:green;font-weight:700;'>shiny piece </span>of <span style='color:red;font-weight:700;text-decoration:line-through;'>metel, glimering </span><span style='color:green;font-weight:700;'>metal, glimmering </span>in the <span style='color:red;font-weight:700;text-decoration:line-through;'>sunlite. </span><span style='color:green;font-weight:700;'>sunlight. </span>Its <span style='color:red;font-weight:700;text-decoration:line-through;'>engin rumbl'd lyke </span><span style='color:green;font-weight:700;'>engine rumbled like </span>a <span style='color:red;font-weight:700;text-decoration:line-through;'>sleepin' ber. </span><span style='color:green;font-weight:700;'>sleeping bear. </span>The <span style='color:red;font-weight:700;text-decoration:line-through;'>wheeles </span><span style='color:green;font-weight:700;'>wheels </span>spun <span style='color:red;font-weight:700;text-decoration:line-through;'>wiv pur powr, takin' </span><span style='color:green;font-weight:700;'>with pure power, taking </span>it along the <span style='color:red;font-weight:700;text-decoration:line-through;'>rode. </span><span style='color:green;font-weight:700;'>road. </span>Inside, the seats <span style='color:red;font-weight:700;text-decoration:line-through;'>wer komfertable, </span><span style='color:green;font-weight:700;'>were comfortable, </span>cushy <span style='color:red;font-weight:700;text-decoration:line-through;'>lyke </span><span style='color:green;font-weight:700;'>like </span>a <span style='color:red;font-weight:700;text-decoration:line-through;'>marshmelo. Eech </span><span style='color:green;font-weight:700;'>marshmallow. Each </span>toot of the horn <span style='color:red;font-weight:700;text-decoration:line-through;'>soundid lyke </span><span style='color:green;font-weight:700;'>sounded like </span>a <span style='color:red;font-weight:700;text-decoration:line-through;'>melodi </span><span style='color:green;font-weight:700;'>melody </span>in the wind. It <span style='color:red;font-weight:700;text-decoration:line-through;'>wuz </span><span style='color:green;font-weight:700;'>was </span>a <span style='color:red;font-weight:700;text-decoration:line-through;'>jurney waitin' </span><span style='color:green;font-weight:700;'>journey waiting </span>to happen, a dream on four <span style='color:red;font-weight:700;text-decoration:line-through;'>wheeles.</span><span style='color:green;font-weight:700;'>wheels.</span>"
      ],
      "text/plain": [
       "<IPython.core.display.Markdown object>"
      ]
     },
     "metadata": {},
     "output_type": "display_data"
    }
   ],
   "source": [
    "from IPython.display import Markdown\n",
    "from redlines import Redlines\n",
    "\n",
    "diff = Redlines(text,response)\n",
    "display(Markdown(diff.output_markdown))"
   ]
  },
  {
   "cell_type": "code",
   "execution_count": 19,
   "id": "2b4e73fd",
   "metadata": {
    "tags": []
   },
   "outputs": [
    {
     "data": {
      "text/markdown": [
       "**Corrected and Compelling Review in APA Style**\n",
       "\n",
       "**Title:** The Allure of an Automotive Masterpiece\n",
       "\n",
       "**Paraphrased Text:**\n",
       "\n",
       "The automobile presented itself as a gleaming piece of metal, reflecting the sunlight brilliantly. Its engine roared with a sound akin to that of a slumbering beast. The wheels rotated with impeccable power, propelling it effortlessly along the road. Within, the seats exuded comfort, enveloping occupants like plush marshmallows. Each actuation of the horn emitted a harmonious symphony that carried through the wind. This vehicle epitomized the promise of a transformative journey, a dream realized upon four wheels."
      ],
      "text/plain": [
       "<IPython.core.display.Markdown object>"
      ]
     },
     "metadata": {},
     "output_type": "display_data"
    }
   ],
   "source": [
    "prompt = f\"\"\"\n",
    "proofread and correct this review. Make it more compelling. \n",
    "Ensure it follows APA style guide and targets an advanced reader. \n",
    "Output in markdown format.\n",
    "Text: ```{text}```\n",
    "\"\"\"\n",
    "response = get_completion(prompt)\n",
    "display(Markdown(response))"
   ]
  },
  {
   "cell_type": "markdown",
   "id": "580452e8",
   "metadata": {},
   "source": [
    "# Summary\n",
    "\n",
    "## Translation:\n",
    "- Utilizes diverse language sources for accurate translation of text.\n",
    "- Offers universal language translation capabilities.\n",
    "\n",
    "## Tone Adaptation:\n",
    "- Adjusts text tone or slang to match specific styles or preferences.\n",
    "- Ensures the original meaning is preserved while transforming the tone.\n",
    "\n",
    "## Format Conversion:\n",
    "- Provides text in desired formats, ensuring readability and compatibility.\n",
    "- Identifies and highlights spelling and grammar errors for easy correction.\n",
    "\n",
    "This tool enables effortless text transformation, facilitating effective communication across languages and styles with precision and clarity.\n"
   ]
  },
  {
   "cell_type": "code",
   "execution_count": null,
   "id": "7591e314",
   "metadata": {},
   "outputs": [],
   "source": []
  }
 ],
 "metadata": {
  "kernelspec": {
   "display_name": "Python 3 (ipykernel)",
   "language": "python",
   "name": "python3"
  },
  "language_info": {
   "codemirror_mode": {
    "name": "ipython",
    "version": 3
   },
   "file_extension": ".py",
   "mimetype": "text/x-python",
   "name": "python",
   "nbconvert_exporter": "python",
   "pygments_lexer": "ipython3",
   "version": "3.10.12"
  }
 },
 "nbformat": 4,
 "nbformat_minor": 5
}
