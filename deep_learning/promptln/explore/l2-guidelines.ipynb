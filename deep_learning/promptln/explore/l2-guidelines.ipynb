{
 "cells": [
  {
   "cell_type": "markdown",
   "id": "7ebe2e9d-685d-4ea3-ab7c-9589caaabff5",
   "metadata": {},
   "source": [
    "# Guidelines for Prompting\n",
    "In this lesson, you'll practice two prompting principles and their related tactics in order to write effective prompts for large language models.\n",
    "\n",
    "## Setup\n",
    "#### Load the API key and relevant Python libaries."
   ]
  },
  {
   "cell_type": "markdown",
   "id": "00bab499-9a50-4bd0-a622-1c914c6ccc29",
   "metadata": {},
   "source": [
    "In this course, we've provided some code that loads the OpenAI API key for you."
   ]
  },
  {
   "cell_type": "code",
   "execution_count": 1,
   "id": "6c382975",
   "metadata": {
    "tags": []
   },
   "outputs": [],
   "source": [
    "import requests\n",
    "import os\n",
    "\n",
    "from dotenv import load_dotenv, find_dotenv\n",
    "_ = load_dotenv(find_dotenv()) # read local .env file\n",
    "api_key = os.environ['GOOGLE_API_KEY']\n",
    "\n",
    "# Set the API endpoint and API key.\n",
    "endpoint = \"https://generativelanguage.googleapis.com/v1beta\"\n",
    "\n",
    "def get_completion(prompt):\n",
    "   # Prepare the request body.\n",
    "   request_body = {\n",
    "       \"contents\": [\n",
    "           {\n",
    "               \"parts\": [\n",
    "                   {\n",
    "                       \"text\": prompt\n",
    "                   }\n",
    "               ]\n",
    "           }\n",
    "       ]\n",
    "   }\n",
    "\n",
    "   # Make the request.\n",
    "   response = requests.post(\n",
    "       f\"{endpoint}/models/gemini-pro:generateContent?key={api_key}\",\n",
    "       json=request_body,\n",
    "   )\n",
    "\n",
    "   # Parse the response.\n",
    "   response_json = response.json()\n",
    "\n",
    "   generated_content = response_json[\"candidates\"][0]['content']['parts'][0]['text']\n",
    "\n",
    "   # Return the generated content.\n",
    "   return generated_content"
   ]
  },
  {
   "cell_type": "markdown",
   "id": "a3acefa8-f8f1-4ef8-932e-9bcefa142666",
   "metadata": {},
   "source": [
    "#### helper function\n",
    "Throughout this course, we will use OpenAI's `gpt-3.5-turbo` model and the [chat completions endpoint](https://platform.openai.com/docs/guides/chat). \n",
    "\n",
    "This helper function will make it easier to use prompts and look at the generated outputs.  \n",
    "**Note**: In June 2023, OpenAI updated gpt-3.5-turbo. The results you see in the notebook may be slightly different than those in the video. Some of the prompts have also been slightly modified to product the desired results."
   ]
  },
  {
   "cell_type": "markdown",
   "id": "e8b32ac4",
   "metadata": {},
   "source": [
    "**Note:** This and all other lab notebooks of this course use OpenAI library version `0.27.0`. \n",
    "\n",
    "In order to use the OpenAI library version `1.0.0`, here is the code that you would use instead for the `get_completion` function:\n",
    "\n",
    "```python\n",
    "client = openai.OpenAI()\n",
    "\n",
    "def get_completion(prompt, model=\"gpt-3.5-turbo\"):\n",
    "    messages = [{\"role\": \"user\", \"content\": prompt}]\n",
    "    response = client.chat.completions.create(\n",
    "        model=model,\n",
    "        messages=messages,\n",
    "        temperature=0\n",
    "    )\n",
    "    return response.choices[0].message.content\n",
    "```"
   ]
  },
  {
   "cell_type": "markdown",
   "id": "3b62298e-2181-4e73-bb40-77e20c655231",
   "metadata": {},
   "source": [
    "## Prompting Principles\n",
    "- **Principle 1: Write clear and specific instructions**\n",
    "- **Principle 2: Give the model time to “think”**\n",
    "\n",
    "### Tactics\n",
    "\n",
    "#### Tactic 1: Use delimiters to clearly indicate distinct parts of the input\n",
    "- Delimiters can be anything like: ```, \"\"\", < >, `<tag> </tag>`, `:`"
   ]
  },
  {
   "cell_type": "markdown",
   "id": "c0f8fdea",
   "metadata": {},
   "source": [
    "## orginal text"
   ]
  },
  {
   "cell_type": "code",
   "execution_count": 4,
   "id": "87121316",
   "metadata": {
    "tags": []
   },
   "outputs": [
    {
     "name": "stdout",
     "output_type": "stream",
     "text": [
      "The Industrial Revolution, a significant 18th and 19th century transformation, profoundly impacted society, economy, and environment, driven by technological advancements and socio-economic changes.\n"
     ]
    }
   ],
   "source": [
    "text = f\"\"\"\n",
    "You should express what you want a model to do by \\ \n",
    "providing instructions that are as clear and \\ \n",
    "specific as you can possibly make them. \\ \n",
    "This will guide the model towards the desired output, \\ \n",
    "and reduce the chances of receiving irrelevant \\ \n",
    "or incorrect responses. Don't confuse writing a \\ \n",
    "clear prompt with writing a short prompt. \\ \n",
    "In many cases, longer prompts provide more clarity \\ \n",
    "and context for the model, which can lead to \\ \n",
    "more detailed and relevant outputs.\n",
    "\"\"\"\n",
    "prompt = f\"\"\"\n",
    "Summarize the text delimited by triple backticks \\ \n",
    "into a single sentence.\n",
    "```{text}```\n",
    "\"\"\"\n",
    "response = get_completion(prompt)\n",
    "print(response)"
   ]
  },
  {
   "cell_type": "markdown",
   "id": "b1eae14b",
   "metadata": {},
   "source": [
    "## my text "
   ]
  },
  {
   "cell_type": "code",
   "execution_count": 6,
   "id": "6190293a",
   "metadata": {},
   "outputs": [
    {
     "name": "stdout",
     "output_type": "stream",
     "text": [
      "The Industrial Revolution, spanning the 18th and 19th centuries, led to significant technological advancements that transformed society, the economy, and the environment, leaving lasting impacts on the world.\n"
     ]
    }
   ],
   "source": [
    "text = f\"\"\"\n",
    "Explore the causes and consequences of the Industrial Revolution in the 18th and 19th centuries,\n",
    " highlighting its impact on society, economy, and environment\n",
    "\"\"\"\n",
    "prompt = f\"\"\"\n",
    "Summarize the text delimited by triple backticks \\ \n",
    "into a single sentence.\n",
    "```{text}```\n",
    "\"\"\"\n",
    "response = get_completion(prompt)\n",
    "print(response)"
   ]
  },
  {
   "cell_type": "markdown",
   "id": "f2798f3d-7618-4ac5-a6b2-3c69c537903d",
   "metadata": {},
   "source": [
    "#### Tactic 2: Ask for a structured output\n",
    "- JSON, HTML"
   ]
  },
  {
   "cell_type": "markdown",
   "id": "d2d4970b",
   "metadata": {},
   "source": [
    "## orginal prompt "
   ]
  },
  {
   "cell_type": "code",
   "execution_count": 6,
   "id": "6b50bbbd",
   "metadata": {
    "tags": []
   },
   "outputs": [
    {
     "name": "stdout",
     "output_type": "stream",
     "text": [
      "```json\n",
      "[\n",
      "  {\n",
      "    \"book_id\": 1,\n",
      "    \"title\": \"The Celestial Symphony\",\n",
      "    \"author\": \"Aetheria Moonchild\",\n",
      "    \"genre\": \"Fantasy\"\n",
      "  },\n",
      "  {\n",
      "    \"book_id\": 2,\n",
      "    \"title\": \"Echoes of Oblivion\",\n",
      "    \"author\": \"Raven Blackwood\",\n",
      "    \"genre\": \"Mystery\"\n",
      "  },\n",
      "  {\n",
      "    \"book_id\": 3,\n",
      "    \"title\": \"Quantum Entanglement\",\n",
      "    \"author\": \"Dr. Anya Petrova\",\n",
      "    \"genre\": \"Science Fiction\"\n",
      "  }\n",
      "]\n",
      "```\n"
     ]
    }
   ],
   "source": [
    "prompt = f\"\"\"\n",
    "Generate a list of three made-up book titles along \\ \n",
    "with their authors and genres. \n",
    "Provide them in JSON format with the following keys: \n",
    "book_id, title, author, genre.\n",
    "\"\"\"\n",
    "response = get_completion(prompt)\n",
    "print(response)"
   ]
  },
  {
   "cell_type": "markdown",
   "id": "39a8015d",
   "metadata": {},
   "source": [
    "## My prompt"
   ]
  },
  {
   "cell_type": "code",
   "execution_count": 23,
   "id": "53bc20ec",
   "metadata": {},
   "outputs": [
    {
     "name": "stdout",
     "output_type": "stream",
     "text": [
      "```json\n",
      "[\n",
      "  {\n",
      "    \"mush_id\": \"Faelight\",\n",
      "    \"type\": \"Ethereal\",\n",
      "    \"qualities\": [\n",
      "      \"Emits a soft, luminescent glow\",\n",
      "      \"Said to possess healing properties\",\n",
      "      \"Rare and elusive\"\n",
      "    ]\n",
      "  },\n",
      "  {\n",
      "    \"mush_id\": \"Shadowbane\",\n",
      "    \"type\": \"Toxic\",\n",
      "    \"qualities\": [\n",
      "      \"Deadly poisonous if ingested\",\n",
      "      \"Can neutralize certain toxins in the environment\",\n",
      "      \"Distinctive black and purple coloration\"\n",
      "    ]\n",
      "  },\n",
      "  {\n",
      "    \"mush_id\": \"Whispbringer\",\n",
      "    \"type\": \"Symbiotic\",\n",
      "    \"qualities\": [\n",
      "      \"Forms a mutually beneficial relationship with certain plants\",\n",
      "      \"Enhances the host plant's nutrient absorption\",\n",
      "      \"Produces a sweet-smelling aroma\"\n",
      "    ]\n",
      "  }\n",
      "]\n",
      "```\n"
     ]
    }
   ],
   "source": [
    "prompt = f\"\"\"\n",
    "Generate a list of three made-up mushrooms along \\ \n",
    "with their types and qualities. \n",
    "Provide them in JSON format with the following keys: \n",
    "mush_id, type, qualities.\n",
    "\"\"\"\n",
    "response = get_completion(prompt)\n",
    "print(response)"
   ]
  },
  {
   "cell_type": "markdown",
   "id": "22a71c4f-b1f1-4d67-ad5a-e49fc1e3147d",
   "metadata": {},
   "source": [
    "#### Tactic 3: Ask the model to check whether conditions are satisfied"
   ]
  },
  {
   "cell_type": "markdown",
   "id": "a16ff23f",
   "metadata": {},
   "source": [
    "## orginal text"
   ]
  },
  {
   "cell_type": "code",
   "execution_count": 7,
   "id": "f0ae612e",
   "metadata": {
    "tags": []
   },
   "outputs": [
    {
     "name": "stdout",
     "output_type": "stream",
     "text": [
      "Completion for Text 1:\n",
      "Step 1 - Get water boiling.\n",
      "Step 2 - Grab a cup and put a tea bag in it.\n",
      "Step 3 - Once the water is hot enough, pour it over the tea bag.\n",
      "Step 4 - Let it sit for a bit so the tea can steep.\n",
      "Step 5 - Take out the tea bag.\n",
      "Step 6 - If you like, you can add some sugar or milk to taste.\n"
     ]
    }
   ],
   "source": [
    "text_1 = f\"\"\"\n",
    "Making a cup of tea is easy! First, you need to get some \\ \n",
    "water boiling. While that's happening, \\ \n",
    "grab a cup and put a tea bag in it. Once the water is \\ \n",
    "hot enough, just pour it over the tea bag. \\ \n",
    "Let it sit for a bit so the tea can steep. After a \\ \n",
    "few minutes, take out the tea bag. If you \\ \n",
    "like, you can add some sugar or milk to taste. \\ \n",
    "And that's it! You've got yourself a delicious \\ \n",
    "cup of tea to enjoy.\n",
    "\"\"\"\n",
    "prompt = f\"\"\"\n",
    "You will be provided with text delimited by triple quotes. \n",
    "If it contains a sequence of instructions, \\ \n",
    "re-write those instructions in the following format:\n",
    "\n",
    "Step 1 - ...\n",
    "Step 2 - …\n",
    "…\n",
    "Step N - …\n",
    "\n",
    "If the text does not contain a sequence of instructions, \\ \n",
    "then simply write \\\"No steps provided.\\\"\n",
    "\n",
    "\\\"\\\"\\\"{text_1}\\\"\\\"\\\"\n",
    "\"\"\"\n",
    "response = get_completion(prompt)\n",
    "print(\"Completion for Text 1:\")\n",
    "print(response)"
   ]
  },
  {
   "cell_type": "markdown",
   "id": "2bc30e60",
   "metadata": {},
   "source": [
    "## My text "
   ]
  },
  {
   "cell_type": "code",
   "execution_count": 8,
   "id": "2c3bad75",
   "metadata": {},
   "outputs": [
    {
     "name": "stdout",
     "output_type": "stream",
     "text": [
      "Completion for Text 1:\n",
      "Step 1 - Marinate the chicken for at least 30 minutes, preferably longer, in the refrigerator.\n",
      "Step 2 - Wash and soak the basmati rice for about 30 minutes.\n",
      "Step 3 - Bring water to a boil and add whole spices, salt, and oil.\n",
      "Step 4 - Add the soaked rice and cook until it's about 70-80% done.\n",
      "Step 5 - Heat ghee or oil and add sliced onions.\n",
      "Step 6 - Cook the onions until golden brown.\n",
      "Step 7 - Add chopped tomatoes, green chilies, ginger-garlic paste.\n",
      "Step 8 - Cook until the tomatoes are soft and oil separates.\n",
      "Step 9 - Add ground spices and sauté for a couple of minutes.\n",
      "Step 10 - Spread a layer of rice in a heavy-bottomed pot or pressure cooker.\n",
      "Step 11 - Top it with a layer of chicken followed by a layer of biryani masala.\n",
      "Step 12 - Repeat the layers until all the rice, chicken, and masala are used.\n",
      "Step 13 - If using a pot, cover it tightly and cook on low heat for about 30-40 minutes.\n",
      "Step 14 - If using a pressure cooker, close the lid and cook for about 1-2 whistles.\n",
      "Step 15 - Optional: Dissolve saffron strands in warm milk and drizzle it over the biryani before serving.\n",
      "Step 16 - Once cooked, gently mix the layers and serve hot with raita, salad, or your favorite side dish.\n"
     ]
    }
   ],
   "source": [
    "text_1 = f\"\"\"\n",
    "Marinate the chicken: In a bowl, mix yogurt, ginger-garlic paste, ground spices (turmeric, cumin, coriander, garam masala), salt, and a splash of lemon juice. Add the chicken pieces and marinate for at least 30 minutes, preferably longer, in the refrigerator.\n",
    "\n",
    "Prepare the rice: Wash and soak the basmati rice for about 30 minutes. In a large pot, bring water to a boil and add whole spices (cinnamon, cloves, cardamom, bay leaves), salt, and a splash of oil. Add the soaked rice and cook until it's about 70-80% done. Drain the rice and set aside.\n",
    "\n",
    "Prepare the biryani masala: Heat ghee or oil in a large skillet or pan. Add sliced onions and cook until golden brown. Add chopped tomatoes, green chilies, ginger-garlic paste, and cook until the tomatoes are soft and oil separates. Add ground spices (turmeric, cumin, coriander, garam masala) and sauté for a couple of minutes.\n",
    "\n",
    "Layer the biryani: In a heavy-bottomed pot or pressure cooker, spread a layer of the cooked rice. Top it with a layer of marinated chicken followed by a layer of biryani masala. Repeat the layers until all the rice, chicken, and masala are used. Sprinkle chopped cilantro and mint leaves on top.\n",
    "\n",
    "Cook the biryani: If using a pot, cover it tightly with a lid and cook on low heat for about 30-40 minutes until the chicken is cooked through and the rice is fully done. If using a pressure cooker, close the lid and cook for about 1-2 whistles.\n",
    "\n",
    "Optional: For added flavor and aroma, you can dissolve saffron strands in warm milk and drizzle it over the biryani before serving.\n",
    "\n",
    "Serve hot: Once cooked, gently mix the layers and serve the chicken biryani hot with raita (yogurt dip), salad, or your favorite side dish.\n",
    "\"\"\"\n",
    "prompt = f\"\"\"\n",
    "You will be provided with text delimited by triple quotes. \n",
    "If it contains a sequence of instructions, \\ \n",
    "re-write those instructions in the following format:\n",
    "\n",
    "Step 1 - ...\n",
    "Step 2 - …\n",
    "…\n",
    "Step N - …\n",
    "\n",
    "If the text does not contain a sequence of instructions, \\ \n",
    "then simply write \\\"No steps provided.\\\"\n",
    "\n",
    "\\\"\\\"\\\"{text_1}\\\"\\\"\\\"\n",
    "\"\"\"\n",
    "response = get_completion(prompt)\n",
    "print(\"Completion for Text 1:\")\n",
    "print(response)"
   ]
  },
  {
   "cell_type": "markdown",
   "id": "750781db",
   "metadata": {},
   "source": [
    "## orginal text"
   ]
  },
  {
   "cell_type": "code",
   "execution_count": 8,
   "id": "76b6cc59",
   "metadata": {
    "tags": []
   },
   "outputs": [
    {
     "name": "stdout",
     "output_type": "stream",
     "text": [
      "Completion for Text 2:\n",
      "No steps provided.\n"
     ]
    }
   ],
   "source": [
    "text_2 = f\"\"\"\n",
    "The sun is shining brightly today, and the birds are \\\n",
    "singing. It's a beautiful day to go for a \\ \n",
    "walk in the park. The flowers are blooming, and the \\ \n",
    "trees are swaying gently in the breeze. People \\ \n",
    "are out and about, enjoying the lovely weather. \\ \n",
    "Some are having picnics, while others are playing \\ \n",
    "games or simply relaxing on the grass. It's a \\ \n",
    "perfect day to spend time outdoors and appreciate the \\ \n",
    "beauty of nature.\n",
    "\"\"\"\n",
    "prompt = f\"\"\"\n",
    "You will be provided with text delimited by triple quotes. \n",
    "If it contains a sequence of instructions, \\ \n",
    "re-write those instructions in the following format:\n",
    "\n",
    "Step 1 - ...\n",
    "Step 2 - …\n",
    "…\n",
    "Step N - …\n",
    "\n",
    "If the text does not contain a sequence of instructions, \\ \n",
    "then simply write \\\"No steps provided.\\\"\n",
    "\n",
    "\\\"\\\"\\\"{text_2}\\\"\\\"\\\"\n",
    "\"\"\"\n",
    "response = get_completion(prompt)\n",
    "print(\"Completion for Text 2:\")\n",
    "print(response)"
   ]
  },
  {
   "cell_type": "markdown",
   "id": "3c5866b8-d8c7-4e19-93db-401315f64954",
   "metadata": {},
   "source": [
    "#### Tactic 4: \"Few-shot\" prompting"
   ]
  },
  {
   "cell_type": "markdown",
   "id": "89be7132",
   "metadata": {},
   "source": [
    "## orginal prompt"
   ]
  },
  {
   "cell_type": "code",
   "execution_count": 9,
   "id": "82ce1540",
   "metadata": {
    "tags": []
   },
   "outputs": [
    {
     "name": "stdout",
     "output_type": "stream",
     "text": [
      "<grandparent>: The relentless waves crashing against the shore carve the towering cliffs; the raging storms invigorate the soaring eagle; the scorching sun nurtures the resilient desert rose.\n"
     ]
    }
   ],
   "source": [
    "prompt = f\"\"\"\n",
    "Your task is to answer in a consistent style.\n",
    "\n",
    "<child>: Teach me about patience.\n",
    "\n",
    "<grandparent>: The river that carves the deepest \\ \n",
    "valley flows from a modest spring; the \\ \n",
    "grandest symphony originates from a single note; \\ \n",
    "the most intricate tapestry begins with a solitary thread.\n",
    "\n",
    "<child>: Teach me about resilience.\n",
    "\"\"\"\n",
    "response = get_completion(prompt)\n",
    "print(response)"
   ]
  },
  {
   "cell_type": "markdown",
   "id": "66ccc840",
   "metadata": {},
   "source": [
    "## My prompt"
   ]
  },
  {
   "cell_type": "code",
   "execution_count": 10,
   "id": "bb2d1a3a",
   "metadata": {},
   "outputs": [
    {
     "name": "stdout",
     "output_type": "stream",
     "text": [
      "Mother: \"Oh, I understand, honey. Math can be tricky sometimes. But I'm sure you'll do great. I believe in you!\"\n"
     ]
    }
   ],
   "source": [
    "prompt = f\"\"\"\n",
    "Your task is to answer in a consistent style.\n",
    "Mother: \"Good morning, sweetheart! Did you sleep well?\"\n",
    "\n",
    "Child: \"Good morning, Mommy! Yes, I slept like a baby. How about you?\"\n",
    "\n",
    "Mother: \"I'm glad to hear that! Oh, I had a little trouble sleeping last night, but I'm feeling better now. Are you excited about school today?\"\n",
    "\n",
    "Child: \"Yes, Mommy! I can't wait to see my friends and learn new things. But I'm a little nervous about the math test.\"\n",
    "\"\"\"\n",
    "response = get_completion(prompt)\n",
    "print(response)"
   ]
  },
  {
   "cell_type": "markdown",
   "id": "d0bb1dcf-95f5-4ee1-8c25-8b2abd5f0f0d",
   "metadata": {},
   "source": [
    "#### Ask for output in a specified format"
   ]
  },
  {
   "cell_type": "markdown",
   "id": "06c52b24",
   "metadata": {},
   "source": [
    "## orginal prompt"
   ]
  },
  {
   "cell_type": "code",
   "execution_count": 14,
   "id": "3e4222cc",
   "metadata": {
    "tags": []
   },
   "outputs": [
    {
     "name": "stdout",
     "output_type": "stream",
     "text": [
      "\n",
      "Completion for prompt 2:\n",
      "Summary: The Industrial Revolution, spanning the 18th and 19th centuries, transformed society, economy, and environment due to advancements in technology and manufacturing.\n",
      "Translation: La révolution industrielle, qui s'étend sur les XVIIIe et XIXe siècles, a transformé la société, l'économie et l'environnement grâce aux progrès de la technologie et de la fabrication.\n",
      "Names: []\n",
      "Output JSON: {\"french_summary\": \"La révolution industrielle, qui s'étend sur les XVIIIe et XIXe siècles, a transformé la société, l'économie et l'environnement grâce aux progrès de la technologie et de la fabrication.\", \"num_names\": 0}\n"
     ]
    }
   ],
   "source": [
    "prompt_2 = f\"\"\"\n",
    "Your task is to perform the following actions: \n",
    "1 - Summarize the following text delimited by \n",
    "  <> with 1 sentence.\n",
    "2 - Translate the summary into french .\n",
    "3 - List each name in the portuguese summary.\n",
    "4 - Output a json object that contains the \n",
    "  following keys: french_summary, num_names.\n",
    "\n",
    "Use the following format:\n",
    "Text: <text to summarize>\n",
    "Summary: <summary>\n",
    "Translation: <summary translation>\n",
    "Names: <list of names in summary>\n",
    "Output JSON: <json with summary and num_names>\n",
    "\n",
    "Text: <{text}>\n",
    "\"\"\"\n",
    "response = get_completion(prompt_2)\n",
    "print(\"\\nCompletion for prompt 2:\")\n",
    "print(response)"
   ]
  },
  {
   "cell_type": "markdown",
   "id": "fec80fdb-92db-48f6-8f1d-b03c26385bad",
   "metadata": {},
   "source": [
    "#### Tactic 2: Instruct the model to work out its own solution before rushing to a conclusion"
   ]
  },
  {
   "cell_type": "markdown",
   "id": "9f3794a6",
   "metadata": {},
   "source": [
    "## My prompt"
   ]
  },
  {
   "cell_type": "code",
   "execution_count": 15,
   "id": "9ea2ff12",
   "metadata": {},
   "outputs": [
    {
     "name": "stdout",
     "output_type": "stream",
     "text": [
      "\n",
      "Completion for prompt 2:\n",
      "Summary: The Industrial Revolution in the 18th and 19th centuries transformed society, economy, and environment.\n",
      "Translation: আঠারো ও উনিশ শতকে শিল্প বিপ্লব সমাজ, অর্থনীতি এবং পরিবেশে রূপান্তরিত হয়েছে।\n",
      "Names: []\n",
      "Output JSON: {\"bengali_summary\": \"আঠারো ও উনিশ শতকে শিল্প বিপ্লব সমাজ, অর্থনীতি এবং পরিবেশে রূপান্তরিত হয়েছে।\", \"num_names\": 0}\n"
     ]
    }
   ],
   "source": [
    "prompt_2 = f\"\"\"\n",
    "Your task is to perform the following actions: \n",
    "1 - Summarize the following text delimited by \n",
    "  <> with 1 sentence.\n",
    "2 - Translate the summary into bengali .\n",
    "3 - List each name in the portuguese summary.\n",
    "4 - Output a json object that contains the \n",
    "  following keys: bengali_summary, num_names.\n",
    "\n",
    "Use the following format:\n",
    "Text: <text to summarize>\n",
    "Summary: <summary>\n",
    "Translation: <summary translation>\n",
    "Names: <list of names in summary>\n",
    "Output JSON: <json with summary and num_names>\n",
    "\n",
    "Text: <{text}>\n",
    "\"\"\"\n",
    "response = get_completion(prompt_2)\n",
    "print(\"\\nCompletion for prompt 2:\")\n",
    "print(response)"
   ]
  },
  {
   "cell_type": "markdown",
   "id": "988ffb7a",
   "metadata": {},
   "source": [
    "## My prompt"
   ]
  },
  {
   "cell_type": "code",
   "execution_count": 16,
   "id": "ff5cc985",
   "metadata": {
    "tags": []
   },
   "outputs": [
    {
     "name": "stdout",
     "output_type": "stream",
     "text": [
      "**Land cost:**\n",
      "\n",
      "- The student correctly identifies the land cost as $100 per square foot and calculates it as 100x, where x represents the size of the installation in square feet. This part of the solution is correct.\n",
      "\n",
      "**Solar panel cost:**\n",
      "\n",
      "- The student correctly identifies the cost of solar panels as $250 per square foot and calculates it as 250x, where x represents the size of the installation in square feet. This part of the solution is correct.\n",
      "\n",
      "**Maintenance cost:**\n",
      "\n",
      "- The student correctly identifies the flat annual maintenance cost as $100,000. However, the student incorrectly calculates the additional maintenance cost per square foot. According to the prompt, the additional maintenance cost is $10 per square foot, but the student adds 100x instead of 10x to the total cost equation. This part of the solution is incorrect.\n",
      "\n",
      "**Total cost:**\n",
      "\n",
      "- The student attempts to calculate the total cost by adding the land cost, solar panel cost, and maintenance cost. However, as mentioned above, there is an error in the calculation of the maintenance cost, so the total cost calculation is also incorrect.\n",
      "\n",
      "**Corrected Total Cost:**\n",
      "\n",
      "```\n",
      "Total cost = Land cost + Solar panel cost + Maintenance cost\n",
      "Total cost = 100x + 250x + (100,000 + 10x) [Corrected maintenance cost]\n",
      "Total cost = 350x + 100,000\n",
      "```\n",
      "\n",
      "Therefore, the correct total cost for the first year of operations as a function of the number of square feet is 350x + 100,000.\n"
     ]
    }
   ],
   "source": [
    "prompt = f\"\"\"\n",
    "Land cost: The student correctly identifies the land cost as $100 per square foot and calculates it as 100x, where x represents the size of the installation in square feet. This part of the solution is correct.\n",
    "\n",
    "Solar panel cost: The student correctly identifies the cost of solar panels as $250 per square foot and calculates it as 250x, where x represents the size of the installation in square feet. This part of the solution is correct.\n",
    "\n",
    "Maintenance cost: The student correctly identifies the flat annual maintenance cost as $100,000. However, the student incorrectly calculates the additional maintenance cost per square foot. According to the prompt, the additional maintenance cost is $10 per square foot, but the student adds 100x instead of 10x to the total cost equation. This part of the solution is incorrect.\n",
    "\n",
    "Total cost: The student attempts to calculate the total cost by adding the land cost, solar panel cost, and maintenance cost. However, as mentioned above, there is an error in the calculation of the maintenance cost, so the total cost calculation is also incorrect.\n",
    "\n",
    "Corrected Total Cost:\n",
    "Total cost = Land cost + Solar panel cost + Maintenance cost\n",
    "Total cost = 100x + 250x + (100,000 + 10x) [Corrected maintenance cost]\n",
    "Total cost = 350x + 100,000\n",
    "\n",
    "Therefore, the correct total cost for the first year of operations as a function of the number of square feet is 350x + 100,000.\n",
    "\"\"\"\n",
    "response = get_completion(prompt)\n",
    "print(response)"
   ]
  },
  {
   "cell_type": "markdown",
   "id": "f322ebd9-0f8a-43aa-97fe-5eac70cdcc6a",
   "metadata": {},
   "source": [
    "#### Note that the student's solution is actually not correct.\n",
    "#### We can fix this by instructing the model to work out its own solution first."
   ]
  },
  {
   "cell_type": "markdown",
   "id": "296979a9",
   "metadata": {},
   "source": [
    "## orginal prompt"
   ]
  },
  {
   "cell_type": "code",
   "execution_count": 19,
   "id": "703f7003",
   "metadata": {
    "tags": []
   },
   "outputs": [
    {
     "name": "stdout",
     "output_type": "stream",
     "text": [
      "Land cost: 100x\n",
      "Solar panel cost: 250x\n",
      "Maintenance cost: 100,000 + 10x\n",
      "Total cost: 100x + 250x + 100,000 + 10x = 360x + 100,000\n",
      "Is the student's solution the same as actual solution just calculated: no\n",
      "Student grade: incorrect\n"
     ]
    }
   ],
   "source": [
    "prompt = f\"\"\"\n",
    "Your task is to determine if the student's solution \\\n",
    "is correct or not.\n",
    "To solve the problem do the following:\n",
    "- First, work out your own solution to the problem including the final total. \n",
    "- Then compare your solution to the student's solution \\ \n",
    "and evaluate if the student's solution is correct or not. \n",
    "Don't decide if the student's solution is correct until \n",
    "you have done the problem yourself.\n",
    "\n",
    "Use the following format:\n",
    "Question:\n",
    "```\n",
    "question here\n",
    "```\n",
    "Student's solution:\n",
    "```\n",
    "student's solution here\n",
    "```\n",
    "Actual solution:\n",
    "```\n",
    "steps to work out the solution and your solution here\n",
    "```\n",
    "Is the student's solution the same as actual solution \\\n",
    "just calculated:\n",
    "```\n",
    "yes or no\n",
    "```\n",
    "Student grade:\n",
    "```\n",
    "correct or incorrect\n",
    "```\n",
    "\n",
    "Question:\n",
    "```\n",
    "I'm building a solar power installation and I need help \\\n",
    "working out the financials. \n",
    "- Land costs $100 / square foot\n",
    "- I can buy solar panels for $250 / square foot\n",
    "- I negotiated a contract for maintenance that will cost \\\n",
    "me a flat $100k per year, and an additional $10 / square \\\n",
    "foot\n",
    "What is the total cost for the first year of operations \\\n",
    "as a function of the number of square feet.\n",
    "``` \n",
    "Student's solution:\n",
    "```\n",
    "Let x be the size of the installation in square feet.\n",
    "Costs:\n",
    "1. Land cost: 100x\n",
    "2. Solar panel cost: 250x\n",
    "3. Maintenance cost: 100,000 + 100x\n",
    "Total cost: 100x + 250x + 100,000 + 100x = 450x + 100,000\n",
    "```\n",
    "Actual solution:\n",
    "\"\"\"\n",
    "response = get_completion(prompt)\n",
    "print(response)"
   ]
  },
  {
   "cell_type": "markdown",
   "id": "070bc3f3",
   "metadata": {},
   "source": [
    "## My Halluicination"
   ]
  },
  {
   "cell_type": "markdown",
   "id": "8a207eab-a1b1-47a5-b913-fe38086123d0",
   "metadata": {},
   "source": [
    "## Model Limitations: Hallucinations\n",
    "- Boie is a real company, the product name is not real."
   ]
  },
  {
   "cell_type": "code",
   "execution_count": 22,
   "id": "81c80919",
   "metadata": {
    "tags": []
   },
   "outputs": [
    {
     "name": "stdout",
     "output_type": "stream",
     "text": [
      "**Toyota Supra M**\n",
      "\n",
      "The Toyota Supra M is a sports car produced by Toyota from 2001 to 2002. It was the fourth and final generation of the Toyota Supra nameplate. The Supra M was powered by a 3.0-liter inline-6 engine with either a single turbocharger or twin turbochargers.\n",
      "\n",
      "**Design**\n",
      "\n",
      "The Supra M was designed by Andreas Zapatinas and featured a sleek and aggressive body with a long hood and short rear deck. The Supra M was available in both coupe and convertible body styles.\n",
      "\n",
      "**Specifications**\n",
      "\n",
      "**Engine:** 3.0-liter inline-6\n",
      "**Power:** 220 hp (single turbocharger) or 320 hp (twin turbochargers)\n",
      "**Torque:** 264 lb-ft (single turbocharger) or 315 lb-ft (twin turbochargers)\n",
      "**Transmission:** 6-speed manual or 5-speed automatic\n",
      "**Drivetrain:** Rear-wheel drive\n",
      "\n",
      "**Performance**\n",
      "\n",
      "The Supra M with the single turbocharger accelerated from 0 to 60 mph in 5.6 seconds and had a top speed of 155 mph. The Supra M with the twin turbochargers accelerated from 0 to 60 mph in 4.6 seconds and had a top speed of 177 mph.\n",
      "\n",
      "**Features**\n",
      "\n",
      "The Supra M was equipped with a range of features, including:\n",
      "\n",
      "* Leather interior\n",
      "* Sport seats\n",
      "* Automatic climate control\n",
      "* Electric windows and mirrors\n",
      "* Remote keyless entry\n",
      "* Anti-lock brakes\n",
      "* Traction control\n",
      "* Vehicle Stability Control\n",
      "\n",
      "**Production**\n",
      "\n",
      "The Supra M was produced for only two years before it was discontinued. A total of 22,553 Supra Ms were produced worldwide, with 12,952 being sold in the United States.\n",
      "\n",
      "**Legacy**\n",
      "\n",
      "The Supra M is a popular and sought-after sports car. It is known for its performance, handling, and stylish design. The Supra M is considered to be one of the best sports cars of the early 2000s.\n"
     ]
    }
   ],
   "source": [
    "prompt = f\"\"\"\n",
    "Tell me about toyota supra M\n",
    "\"\"\"\n",
    "response = get_completion(prompt)\n",
    "print(response)"
   ]
  },
  {
   "cell_type": "markdown",
   "id": "aa58227a",
   "metadata": {},
   "source": [
    "## SUMMARY:"
   ]
  },
  {
   "cell_type": "markdown",
   "id": "99ad9590",
   "metadata": {},
   "source": [
    "# Prompting Guidelines Summary\n",
    "\n",
    "## Setup:\n",
    "\n",
    "Ensure to load the API key and relevant Python libraries before running the code.\n",
    "\n",
    "## Prompting Principles:\n",
    "\n",
    "1. Write Clear and Specific Instructions.\n",
    "\n",
    "## Tactics:\n",
    "\n",
    "- Utilize delimiters to demarcate input segments.\n",
    "\n",
    "## Structuring Output:\n",
    "\n",
    "- Prompt the desired output format (e.g., HTML, JSON) for structured output.\n",
    "\n",
    "## Verification Process:\n",
    "\n",
    "- Confirm the presence of required functions in the input.\n",
    "\n",
    "## Conversational Guidance:\n",
    "\n",
    "- Provide concise conversations to guide the system on the user's next query.\n"
   ]
  },
  {
   "cell_type": "markdown",
   "id": "1e0e7301",
   "metadata": {},
   "source": []
  },
  {
   "cell_type": "markdown",
   "id": "f2cc2e4b",
   "metadata": {},
   "source": [
    "## Principle 2: Give the model time to “think”\n",
    "\n",
    "# Tactics:\n",
    "\n",
    "- After presenting the text, specify the required steps to be followed via the prompt (e.g., translate or format the output).\n",
    "\n",
    "# Tactics2:\n",
    "\n",
    "- Instruct the model to develop its own solution before providing the desired solution to our prompts.\n",
    "- It can also generate hallucinatory results for the query asked (i.e., provide false or incorrect results).\n"
   ]
  },
  {
   "cell_type": "markdown",
   "id": "d476c7f7",
   "metadata": {},
   "source": []
  }
 ],
 "metadata": {
  "kernelspec": {
   "display_name": "Python 3 (ipykernel)",
   "language": "python",
   "name": "python3"
  },
  "language_info": {
   "codemirror_mode": {
    "name": "ipython",
    "version": 3
   },
   "file_extension": ".py",
   "mimetype": "text/x-python",
   "name": "python",
   "nbconvert_exporter": "python",
   "pygments_lexer": "ipython3",
   "version": "3.10.12"
  }
 },
 "nbformat": 4,
 "nbformat_minor": 5
}
