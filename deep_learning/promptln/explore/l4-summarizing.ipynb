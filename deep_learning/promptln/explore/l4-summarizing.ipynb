{
 "cells": [
  {
   "cell_type": "markdown",
   "id": "87857393-6369-4b66-87c9-5f3253edf28e",
   "metadata": {},
   "source": [
    "# Summarizing\n",
    "In this lesson, you will summarize text with a focus on specific topics.\n",
    "\n",
    "## Setup"
   ]
  },
  {
   "cell_type": "code",
   "execution_count": 2,
   "id": "8ac673e1",
   "metadata": {},
   "outputs": [],
   "source": [
    "import requests\n",
    "import os\n",
    "\n",
    "from dotenv import load_dotenv, find_dotenv\n",
    "_ = load_dotenv(find_dotenv()) # read local .env file\n",
    "api_key = os.environ['GOOGLE_API_KEY']\n",
    "\n",
    "# Set the API endpoint and API key.\n",
    "endpoint = \"https://generativelanguage.googleapis.com/v1beta\"\n",
    "\n",
    "def get_completion(prompt):\n",
    "   # Prepare the request body.\n",
    "   request_body = {\n",
    "       \"contents\": [\n",
    "           {\n",
    "               \"parts\": [\n",
    "                   {\n",
    "                       \"text\": prompt\n",
    "                   }\n",
    "               ]\n",
    "           }\n",
    "       ]\n",
    "   }\n",
    "\n",
    "   # Make the request.\n",
    "   response = requests.post(\n",
    "       f\"{endpoint}/models/gemini-pro:generateContent?key={api_key}\",\n",
    "       json=request_body,\n",
    "   )\n",
    "\n",
    "   # Parse the response.\n",
    "   response_json = response.json()\n",
    "\n",
    "   generated_content = response_json[\"candidates\"][0]['content']['parts'][0]['text']\n",
    "\n",
    "   # Return the generated content.\n",
    "   return generated_content"
   ]
  },
  {
   "cell_type": "markdown",
   "id": "387b0686-bea6-41a2-b879-88721dc0ec10",
   "metadata": {},
   "source": [
    "## Text to summarize"
   ]
  },
  {
   "cell_type": "markdown",
   "id": "d8187200",
   "metadata": {},
   "source": [
    "## Summarize with a word/sentence/character limit"
   ]
  },
  {
   "cell_type": "code",
   "execution_count": 3,
   "id": "0ce2cf3c",
   "metadata": {},
   "outputs": [
    {
     "name": "stdout",
     "output_type": "stream",
     "text": [
      "***\n",
      "The cricket bat is sturdy and suitable for various ball types, but it is somewhat small for its price. Despite this, it was delivered early.\n",
      "***\n"
     ]
    }
   ],
   "source": [
    "prod_review = \"\"\"\n",
    "Got this cricket bat for waseem's birthday, \\\n",
    "who loves it and takes it everywhere. It's good and \\ \n",
    "super strong, and it can be played in both thr type of balls. It's \\ \n",
    "a bit small for what I paid though. I think there \\ \n",
    "might be other options that are bigger for the \\ \n",
    "same price. It arrived a day earlier than expected, \\ \n",
    "so I got to play with it myself before I gave it \\ \n",
    "to her.\n",
    "\"\"\"\n",
    "prompt = f\"\"\"\n",
    "Your task is to generate a short summary of a product \\\n",
    "review from an ecommerce site. \n",
    "\n",
    "Summarize the review below, delimited by triple \n",
    "backticks, in at most 30 words. \n",
    "\n",
    "Review: ```{prod_review}```\n",
    "\"\"\"\n",
    "\n",
    "response = get_completion(prompt)\n",
    "print(response)\n"
   ]
  },
  {
   "cell_type": "markdown",
   "id": "b3920350",
   "metadata": {},
   "source": [
    "# My text "
   ]
  },
  {
   "cell_type": "code",
   "execution_count": 8,
   "id": "5c53b143",
   "metadata": {},
   "outputs": [
    {
     "name": "stdout",
     "output_type": "stream",
     "text": [
      "### Review Summary:\n",
      "\n",
      "Planning a European summer vacation with a focus on affordability and flexibility. Seeking budget-friendly accommodations and considering scenic train travel. Preparing for varied weather conditions and researching local customs and phrases.\n"
     ]
    }
   ],
   "source": [
    "prod_review = \"\"\"\n",
    "Planning a trip to Europe for summer vacation\n",
    "Exploring historical landmarks, trying local cuisine, visiting museums\n",
    "Concerned about expenses, seeking affordable accommodation options\n",
    "Considering train travel for flexibility and scenic routes\n",
    "Hoping for sunny days but preparing for occasional rain\n",
    "Researching local customs and phrases in the native language\n",
    "\"\"\"\n",
    "prompt = f\"\"\"\n",
    "Your task is to generate a short summary of a product \\\n",
    "review from an ecommerce site. \n",
    "\n",
    "Summarize the review below, delimited by triple \n",
    "backticks, in at most 30 words. \n",
    "\n",
    "Review: ```{prod_review}```\n",
    "\"\"\"\n",
    "\n",
    "response = get_completion(prompt)\n",
    "print(response)\n"
   ]
  },
  {
   "cell_type": "markdown",
   "id": "90832908-3b3a-459b-b595-bbe15c2a72fa",
   "metadata": {},
   "source": [
    "## Summarize with a focus on shipping and delivery"
   ]
  },
  {
   "cell_type": "code",
   "execution_count": 6,
   "id": "d850bdd2",
   "metadata": {},
   "outputs": [
    {
     "name": "stdout",
     "output_type": "stream",
     "text": [
      "***Shipping was prompt, arriving a day early. No issues with delivery or packaging.***\n"
     ]
    }
   ],
   "source": [
    "prompt = f\"\"\"\n",
    "Your task is to generate a short summary of a product \\\n",
    "review from an ecommerce site to give feedback to the \\\n",
    "Shipping deparmtment. \n",
    "\n",
    "Summarize the review below, delimited by triple \n",
    "backticks, in at most 30 words, and focusing on any aspects \\\n",
    "that mention shipping and delivery of the product. \n",
    "\n",
    "Review: ```{prod_review}```\n",
    "\"\"\"\n",
    "\n",
    "response = get_completion(prompt)\n",
    "print(response)\n"
   ]
  },
  {
   "cell_type": "markdown",
   "id": "01204385-1d27-420c-80ee-bd4b524550f6",
   "metadata": {},
   "source": [
    "## Summarize with a focus on price and value"
   ]
  },
  {
   "cell_type": "code",
   "execution_count": 9,
   "id": "6d865432",
   "metadata": {},
   "outputs": [
    {
     "name": "stdout",
     "output_type": "stream",
     "text": [
      "```\n",
      "Review suggests a price-sensitive customer prioritizing value. Luggage storage and flexibility in accommodation preferred due to sightseeing and train travel.\n",
      "```\n"
     ]
    }
   ],
   "source": [
    "prompt = f\"\"\"\n",
    "Your task is to generate a short summary of a product \\\n",
    "review from an ecommerce site to give feedback to the \\\n",
    "pricing deparmtment, responsible for determining the \\\n",
    "price of the product.  \n",
    "\n",
    "Summarize the review below, delimited by triple \n",
    "backticks, in at most 30 words, and focusing on any aspects \\\n",
    "that are relevant to the price and perceived value. \n",
    "\n",
    "Review: ```{prod_review}```\n",
    "\"\"\"\n",
    "\n",
    "response = get_completion(prompt)\n",
    "print(response)\n"
   ]
  },
  {
   "cell_type": "markdown",
   "id": "21a561c4-d9a0-48a8-86c4-725746fb08df",
   "metadata": {},
   "source": [
    "#### Comment\n",
    "- Summaries include topics that are not related to the topic of focus."
   ]
  },
  {
   "cell_type": "markdown",
   "id": "9aff99cd-dc09-467c-bd09-897ffe06a232",
   "metadata": {},
   "source": [
    "## Try \"extract\" instead of \"summarize\""
   ]
  },
  {
   "cell_type": "code",
   "execution_count": 4,
   "id": "190943b0",
   "metadata": {},
   "outputs": [
    {
     "name": "stdout",
     "output_type": "stream",
     "text": [
      "\"Arrived a day earlier than expected.\"\n"
     ]
    }
   ],
   "source": [
    "prompt = f\"\"\"\n",
    "Your task is to extract relevant information from \\ \n",
    "a product review from an ecommerce site the information should be more relavent to the product and it should be genuine to give \\\n",
    "feedback to the Shipping department. \n",
    "\n",
    "From the review below, delimited by triple quotes \\\n",
    "extract the information relevant to shipping and \\ \n",
    "delivery. Limit to 50 words. \n",
    "\n",
    "Review: ```{prod_review}```\n",
    "\"\"\"\n",
    "\n",
    "response = get_completion(prompt)\n",
    "print(response)"
   ]
  },
  {
   "cell_type": "markdown",
   "id": "f513da2e-f89c-4c91-8456-b79c630e70c9",
   "metadata": {},
   "source": [
    "## Summarize multiple product reviews"
   ]
  },
  {
   "cell_type": "markdown",
   "id": "c04b3407",
   "metadata": {},
   "source": [
    "## my review"
   ]
  },
  {
   "cell_type": "code",
   "execution_count": 13,
   "id": "027822c2",
   "metadata": {},
   "outputs": [
    {
     "name": "stdout",
     "output_type": "stream",
     "text": [
      "0 ### Europe Vacation Planning: Affordable Accommodation, Scenic Train Travel \n",
      "\n",
      "1 ### Product Review Summary\n",
      "\n",
      "Despite a damaged component, the company provided excellent customer service, including a replacement and resolving a missing part issue. \n",
      "\n",
      "2 ***Impressed with versatile electric mixer's performance and excellent customer support.*** \n",
      "\n",
      "3 ### The processor is okay, but the quality has declined and the price has increased significantly. \n",
      "\n"
     ]
    }
   ],
   "source": [
    "\n",
    "review_1 = prod_review \n",
    "# review for a car\n",
    "review_2 = \"\"\"\n",
    "\n",
    "Needed a specific car spare part and found this one which had additional features and a reasonable price. \n",
    "Got it quickly - arrived in 2 days. Unfortunately, one of the components was damaged during transit, \n",
    "but the company promptly sent a replacement. Assembly was straightforward. However, \n",
    "I encountered an issue with a missing part, but their support team swiftly resolved it by sending the missing piece. It appears to be a reputable company that values its customers and products\n",
    "\"\"\"\n",
    "\n",
    "# review for an electric mixer\n",
    "review_3 = \"\"\"\n",
    "Needed a reliable electric mixer for my kitchen, and this one caught my eye with its versatile features and affordable price. Delivery was swift - \n",
    "arrived within just a couple of days. However, \n",
    "upon unpacking, I noticed a minor issue with the power cord. \n",
    "I contacted customer support, and they were extremely helpful, \n",
    "promptly arranging for a replacement to be sent out. Assembly was a breeze, \n",
    "and the mixer worked like a charm once set up. Overall, \n",
    "I'm impressed with both the product and the excellent customer service provided by the company.\n",
    "\"\"\"\n",
    "# review for a blender\n",
    "review_4 = \"\"\"\n",
    "So, they still had the 17 piece system on seasonal \\\n",
    "sale for around $49 in the month of November, about \\\n",
    "half off, but for some reason (call it price gouging) \\\n",
    "around the second week of December the prices all went \\\n",
    "up to about anywhere from between $70-$89 for the same \\\n",
    "system. And the 11 piece system went up around $10 or \\\n",
    "so in price also from the earlier sale price of $29. \\\n",
    "So it looks okay, but if you look at the base, the part \\\n",
    "where the blade locks into place doesn’t look as good \\\n",
    "as in previous editions from a few years ago, but I \\\n",
    "plan to be very gentle with it (example, I crush \\\n",
    "very hard items like beans, ice, rice, etc. in the \\ \n",
    "blender first then pulverize them in the serving size \\\n",
    "I want in the blender then switch to the whipping \\\n",
    "blade for a finer flour, and use the cross cutting blade \\\n",
    "first when making smoothies, then use the flat blade \\\n",
    "if I need them finer/less pulpy). Special tip when making \\\n",
    "smoothies, finely cut and freeze the fruits and \\\n",
    "vegetables (if using spinach-lightly stew soften the \\ \n",
    "spinach then freeze until ready for use-and if making \\\n",
    "sorbet, use a small to medium sized food processor) \\ \n",
    "that you plan to use that way you can avoid adding so \\\n",
    "much ice if at all-when making your smoothie. \\\n",
    "After about a year, the motor was making a funny noise. \\\n",
    "I called customer service but the warranty expired \\\n",
    "already, so I had to buy another one. FYI: The overall \\\n",
    "quality has gone done in these types of products, so \\\n",
    "they are kind of counting on brand recognition and \\\n",
    "consumer loyalty to maintain sales. Got it in about \\\n",
    "two days.\n",
    "\"\"\"\n",
    "\n",
    "reviews = [review_1, review_2, review_3, review_4]\n",
    "for i in range(len(reviews)):\n",
    "    prompt = f\"\"\"\n",
    "    Your task is to generate a short summary of a product \\ \n",
    "    review from an ecommerce site. \n",
    "\n",
    "    Summarize the review below, delimited by triple \\\n",
    "    backticks in at most 20 words. \n",
    "\n",
    "    Review: ```{reviews[i]}```\n",
    "    \"\"\"\n",
    "\n",
    "    response = get_completion(prompt)\n",
    "    print(i, response, \"\\n\")\n",
    "\n",
    "\n"
   ]
  },
  {
   "cell_type": "markdown",
   "id": "e0c9f921-8672-4124-bad6-8bee65078ccb",
   "metadata": {},
   "source": [
    "## SUMMARY:\n",
    "\n",
    "### Summarizing\n",
    "\n",
    "#### Approach 1:\n",
    "- Utilize provided paragraphs about a product from an ordered site to create summaries within specified word/sentence/character constraints.\n",
    "\n",
    "#### Approach 2:\n",
    "- Focus on essential aspects like shipping, delivery, price, and value, tailoring the summary to extract only relevant information.\n",
    "\n",
    "### Multiple Product Reviews Summarization\n",
    "- Efficiently review multiple products concurrently, ensuring comprehensive summaries.\n"
   ]
  },
  {
   "cell_type": "markdown",
   "id": "18359bff",
   "metadata": {},
   "source": []
  }
 ],
 "metadata": {
  "kernelspec": {
   "display_name": "Python 3 (ipykernel)",
   "language": "python",
   "name": "python3"
  },
  "language_info": {
   "codemirror_mode": {
    "name": "ipython",
    "version": 3
   },
   "file_extension": ".py",
   "mimetype": "text/x-python",
   "name": "python",
   "nbconvert_exporter": "python",
   "pygments_lexer": "ipython3",
   "version": "3.10.12"
  }
 },
 "nbformat": 4,
 "nbformat_minor": 5
}
